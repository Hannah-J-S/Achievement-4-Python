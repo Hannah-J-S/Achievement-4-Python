{
 "cells": [
  {
   "cell_type": "code",
   "execution_count": 2,
   "id": "75f6d415-cd33-4e2c-b1a0-67a453ec81d8",
   "metadata": {},
   "outputs": [
    {
     "name": "stderr",
     "output_type": "stream",
     "text": [
      "Matplotlib is building the font cache; this may take a moment.\n"
     ]
    }
   ],
   "source": [
    "# Import libraries\n",
    "import pandas as pd \n",
    "import numpy as np \n",
    "import os \n",
    "import matplotlib.pyplot as plt \n",
    "import seaborn as sns \n",
    "import scipy"
   ]
  },
  {
   "cell_type": "code",
   "execution_count": 6,
   "id": "0629c0ae-fe04-4c29-b0b8-366c3d93244b",
   "metadata": {},
   "outputs": [],
   "source": [
    "# Import path\n",
    "path = r'/Users/hannahstrassmann/Desktop/Achievment four Project/two Data'"
   ]
  },
  {
   "cell_type": "code",
   "execution_count": 8,
   "id": "9d1c0e39-1625-4583-bccb-76b7644671dc",
   "metadata": {},
   "outputs": [],
   "source": [
    "# Import datafram\n",
    "df_ords_prods_current = pd.read_pickle(os.path.join(path, 'Prepared Data', 'ords_prods_current.pkl'))\n"
   ]
  },
  {
   "cell_type": "code",
   "execution_count": 10,
   "id": "fff24588-ff1e-41ed-b091-e6e5ec7fb480",
   "metadata": {},
   "outputs": [
    {
     "data": {
      "text/html": [
       "<div>\n",
       "<style scoped>\n",
       "    .dataframe tbody tr th:only-of-type {\n",
       "        vertical-align: middle;\n",
       "    }\n",
       "\n",
       "    .dataframe tbody tr th {\n",
       "        vertical-align: top;\n",
       "    }\n",
       "\n",
       "    .dataframe thead th {\n",
       "        text-align: right;\n",
       "    }\n",
       "</style>\n",
       "<table border=\"1\" class=\"dataframe\">\n",
       "  <thead>\n",
       "    <tr style=\"text-align: right;\">\n",
       "      <th></th>\n",
       "      <th>order_id</th>\n",
       "      <th>user_id</th>\n",
       "      <th>order_number</th>\n",
       "      <th>orders_day_of_week</th>\n",
       "      <th>order_time</th>\n",
       "      <th>days_since_prior_order</th>\n",
       "      <th>product_id</th>\n",
       "      <th>add_to_cart_order</th>\n",
       "      <th>reordered</th>\n",
       "      <th>product_name</th>\n",
       "      <th>...</th>\n",
       "      <th>busiest day</th>\n",
       "      <th>busiest_days_loc</th>\n",
       "      <th>busiest_period_of_day</th>\n",
       "      <th>max_order</th>\n",
       "      <th>loyalty_flag</th>\n",
       "      <th>spending_habits</th>\n",
       "      <th>spending flag</th>\n",
       "      <th>ordering_frequency</th>\n",
       "      <th>order_frequency_flag</th>\n",
       "      <th>busiest_period_of_day_2</th>\n",
       "    </tr>\n",
       "  </thead>\n",
       "  <tbody>\n",
       "    <tr>\n",
       "      <th>0</th>\n",
       "      <td>2539329</td>\n",
       "      <td>1</td>\n",
       "      <td>1</td>\n",
       "      <td>2</td>\n",
       "      <td>8</td>\n",
       "      <td>NaN</td>\n",
       "      <td>196</td>\n",
       "      <td>1</td>\n",
       "      <td>0</td>\n",
       "      <td>Soda</td>\n",
       "      <td>...</td>\n",
       "      <td>regular busy</td>\n",
       "      <td>regular busy days</td>\n",
       "      <td>average orders</td>\n",
       "      <td>10</td>\n",
       "      <td>new customer</td>\n",
       "      <td>6.367797</td>\n",
       "      <td>low spender</td>\n",
       "      <td>20.5</td>\n",
       "      <td>non-frequent customer</td>\n",
       "      <td>average orders 2</td>\n",
       "    </tr>\n",
       "    <tr>\n",
       "      <th>1</th>\n",
       "      <td>2539329</td>\n",
       "      <td>1</td>\n",
       "      <td>1</td>\n",
       "      <td>2</td>\n",
       "      <td>8</td>\n",
       "      <td>NaN</td>\n",
       "      <td>14084</td>\n",
       "      <td>2</td>\n",
       "      <td>0</td>\n",
       "      <td>Organic Unsweetened Vanilla Almond Milk</td>\n",
       "      <td>...</td>\n",
       "      <td>regular busy</td>\n",
       "      <td>regular busy days</td>\n",
       "      <td>average orders</td>\n",
       "      <td>10</td>\n",
       "      <td>new customer</td>\n",
       "      <td>6.367797</td>\n",
       "      <td>low spender</td>\n",
       "      <td>20.5</td>\n",
       "      <td>non-frequent customer</td>\n",
       "      <td>average orders 2</td>\n",
       "    </tr>\n",
       "    <tr>\n",
       "      <th>2</th>\n",
       "      <td>2539329</td>\n",
       "      <td>1</td>\n",
       "      <td>1</td>\n",
       "      <td>2</td>\n",
       "      <td>8</td>\n",
       "      <td>NaN</td>\n",
       "      <td>12427</td>\n",
       "      <td>3</td>\n",
       "      <td>0</td>\n",
       "      <td>Original Beef Jerky</td>\n",
       "      <td>...</td>\n",
       "      <td>regular busy</td>\n",
       "      <td>regular busy days</td>\n",
       "      <td>average orders</td>\n",
       "      <td>10</td>\n",
       "      <td>new customer</td>\n",
       "      <td>6.367797</td>\n",
       "      <td>low spender</td>\n",
       "      <td>20.5</td>\n",
       "      <td>non-frequent customer</td>\n",
       "      <td>average orders 2</td>\n",
       "    </tr>\n",
       "    <tr>\n",
       "      <th>3</th>\n",
       "      <td>2539329</td>\n",
       "      <td>1</td>\n",
       "      <td>1</td>\n",
       "      <td>2</td>\n",
       "      <td>8</td>\n",
       "      <td>NaN</td>\n",
       "      <td>26088</td>\n",
       "      <td>4</td>\n",
       "      <td>0</td>\n",
       "      <td>Aged White Cheddar Popcorn</td>\n",
       "      <td>...</td>\n",
       "      <td>regular busy</td>\n",
       "      <td>regular busy days</td>\n",
       "      <td>average orders</td>\n",
       "      <td>10</td>\n",
       "      <td>new customer</td>\n",
       "      <td>6.367797</td>\n",
       "      <td>low spender</td>\n",
       "      <td>20.5</td>\n",
       "      <td>non-frequent customer</td>\n",
       "      <td>average orders 2</td>\n",
       "    </tr>\n",
       "    <tr>\n",
       "      <th>4</th>\n",
       "      <td>2539329</td>\n",
       "      <td>1</td>\n",
       "      <td>1</td>\n",
       "      <td>2</td>\n",
       "      <td>8</td>\n",
       "      <td>NaN</td>\n",
       "      <td>26405</td>\n",
       "      <td>5</td>\n",
       "      <td>0</td>\n",
       "      <td>XL Pick-A-Size Paper Towel Rolls</td>\n",
       "      <td>...</td>\n",
       "      <td>regular busy</td>\n",
       "      <td>regular busy days</td>\n",
       "      <td>average orders</td>\n",
       "      <td>10</td>\n",
       "      <td>new customer</td>\n",
       "      <td>6.367797</td>\n",
       "      <td>low spender</td>\n",
       "      <td>20.5</td>\n",
       "      <td>non-frequent customer</td>\n",
       "      <td>average orders 2</td>\n",
       "    </tr>\n",
       "  </tbody>\n",
       "</table>\n",
       "<p>5 rows × 25 columns</p>\n",
       "</div>"
      ],
      "text/plain": [
       "   order_id  user_id  order_number  orders_day_of_week  order_time  \\\n",
       "0   2539329        1             1                   2           8   \n",
       "1   2539329        1             1                   2           8   \n",
       "2   2539329        1             1                   2           8   \n",
       "3   2539329        1             1                   2           8   \n",
       "4   2539329        1             1                   2           8   \n",
       "\n",
       "   days_since_prior_order  product_id  add_to_cart_order  reordered  \\\n",
       "0                     NaN         196                  1          0   \n",
       "1                     NaN       14084                  2          0   \n",
       "2                     NaN       12427                  3          0   \n",
       "3                     NaN       26088                  4          0   \n",
       "4                     NaN       26405                  5          0   \n",
       "\n",
       "                              product_name  ...   busiest day  \\\n",
       "0                                     Soda  ...  regular busy   \n",
       "1  Organic Unsweetened Vanilla Almond Milk  ...  regular busy   \n",
       "2                      Original Beef Jerky  ...  regular busy   \n",
       "3               Aged White Cheddar Popcorn  ...  regular busy   \n",
       "4         XL Pick-A-Size Paper Towel Rolls  ...  regular busy   \n",
       "\n",
       "    busiest_days_loc  busiest_period_of_day max_order  loyalty_flag  \\\n",
       "0  regular busy days         average orders        10  new customer   \n",
       "1  regular busy days         average orders        10  new customer   \n",
       "2  regular busy days         average orders        10  new customer   \n",
       "3  regular busy days         average orders        10  new customer   \n",
       "4  regular busy days         average orders        10  new customer   \n",
       "\n",
       "  spending_habits spending flag ordering_frequency   order_frequency_flag  \\\n",
       "0        6.367797   low spender               20.5  non-frequent customer   \n",
       "1        6.367797   low spender               20.5  non-frequent customer   \n",
       "2        6.367797   low spender               20.5  non-frequent customer   \n",
       "3        6.367797   low spender               20.5  non-frequent customer   \n",
       "4        6.367797   low spender               20.5  non-frequent customer   \n",
       "\n",
       "  busiest_period_of_day_2  \n",
       "0        average orders 2  \n",
       "1        average orders 2  \n",
       "2        average orders 2  \n",
       "3        average orders 2  \n",
       "4        average orders 2  \n",
       "\n",
       "[5 rows x 25 columns]"
      ]
     },
     "execution_count": 10,
     "metadata": {},
     "output_type": "execute_result"
    }
   ],
   "source": [
    "df_ords_prods_current.head()"
   ]
  },
  {
   "cell_type": "code",
   "execution_count": 14,
   "id": "0458f86f-b0c7-4b73-946d-fa563f64fc90",
   "metadata": {},
   "outputs": [
    {
     "data": {
      "text/plain": [
       "<Axes: xlabel='orders_day_of_week'>"
      ]
     },
     "execution_count": 14,
     "metadata": {},
     "output_type": "execute_result"
    },
    {
     "data": {
      "image/png": "[encoded data removed]",
      "text/plain": [
       "<Figure size 640x480 with 1 Axes>"
      ]
     },
     "metadata": {},
     "output_type": "display_data"
    }
   ],
   "source": [
    "df_ords_prods_current['orders_day_of_week'].value_counts().plot.bar()"
   ]
  },
  {
   "cell_type": "code",
   "execution_count": 20,
   "id": "bbe9b316-c532-4685-be0c-a08fcfea34b8",
   "metadata": {},
   "outputs": [
    {
     "data": {
      "image/png": "[encoded data removed]",
      "text/plain": [
       "<Figure size 640x480 with 1 Axes>"
      ]
     },
     "metadata": {},
     "output_type": "display_data"
    }
   ],
   "source": [
    "bar = df_ords_prods_current['orders_day_of_week'].value_counts().sort_index().plot.bar()"
   ]
  },
  {
   "cell_type": "code",
   "execution_count": 24,
   "id": "cdb23204-4220-4034-a5ec-63e70b232831",
   "metadata": {},
   "outputs": [
    {
     "data": {
      "text/plain": [
       "orders_day_of_week\n",
       "0    6204182\n",
       "1    5660230\n",
       "6    4496490\n",
       "2    4213830\n",
       "5    4205791\n",
       "3    3840534\n",
       "4    3783802\n",
       "Name: count, dtype: int64"
      ]
     },
     "execution_count": 24,
     "metadata": {},
     "output_type": "execute_result"
    }
   ],
   "source": [
    "df_ords_prods_current['orders_day_of_week'].value_counts()"
   ]
  },
  {
   "cell_type": "code",
   "execution_count": 26,
   "id": "1fce2785-c52e-4978-a8ed-6d9da0f09c3c",
   "metadata": {},
   "outputs": [
    {
     "data": {
      "text/plain": [
       "orders_day_of_week\n",
       "0    6204182\n",
       "1    5660230\n",
       "2    4213830\n",
       "3    3840534\n",
       "4    3783802\n",
       "5    4205791\n",
       "6    4496490\n",
       "Name: count, dtype: int64"
      ]
     },
     "execution_count": 26,
     "metadata": {},
     "output_type": "execute_result"
    }
   ],
   "source": [
    "df_ords_prods_current['orders_day_of_week'].value_counts().sort_index()"
   ]
  },
  {
   "cell_type": "code",
   "execution_count": 30,
   "id": "9c6ad7f2-2ada-4c9f-bdfe-5ec0c22accb8",
   "metadata": {},
   "outputs": [
    {
     "data": {
      "image/png": "[encoded data removed]",
      "text/plain": [
       "<Figure size 640x480 with 1 Axes>"
      ]
     },
     "metadata": {},
     "output_type": "display_data"
    }
   ],
   "source": [
    "bar = df_ords_prods_current['orders_day_of_week'].value_counts().plot.bar (color =['purple', 'blue', 'teal', 'green', 'yellow', 'orange', 'red'])"
   ]
  },
  {
   "cell_type": "code",
   "execution_count": 32,
   "id": "eeb1f2f7-7992-4a75-9733-925701ed8380",
   "metadata": {},
   "outputs": [
    {
     "data": {
      "image/png": "[encoded data removed]",
      "text/plain": [
       "<Figure size 640x480 with 1 Axes>"
      ]
     },
     "execution_count": 32,
     "metadata": {},
     "output_type": "execute_result"
    }
   ],
   "source": [
    "bar.figure"
   ]
  },
  {
   "cell_type": "code",
   "execution_count": 40,
   "id": "b3c2d9ca-664f-43bf-a324-25cf7268046f",
   "metadata": {},
   "outputs": [],
   "source": [
    "path_2 = r'/Users/hannahstrassmann/Desktop/Achievment four Project/04 Analysis'"
   ]
  },
  {
   "cell_type": "code",
   "execution_count": null,
   "id": "12325d9d-fec4-470b-b564-3a9ffb06184b",
   "metadata": {},
   "outputs": [],
   "source": []
  },
  {
   "cell_type": "code",
   "execution_count": 46,
   "id": "cf1f36d3-fc1a-49cf-aeb1-ed18417ade15",
   "metadata": {},
   "outputs": [],
   "source": [
    "bar.figure.savefig (os.path.join(path_2, 'Visualisations', 'bar_orders_dow.png'))"
   ]
  },
  {
   "cell_type": "code",
   "execution_count": null,
   "id": "e34d37c0-cd9d-418d-aa74-6de83b9cfaf3",
   "metadata": {},
   "outputs": [],
   "source": []
  },
  {
   "cell_type": "code",
   "execution_count": null,
   "id": "9af7511a-3299-4701-8c0f-9d371291b28e",
   "metadata": {},
   "outputs": [],
   "source": []
  },
  {
   "cell_type": "code",
   "execution_count": null,
   "id": "bc687b4b-25dc-498e-b070-d3ac913ff57c",
   "metadata": {},
   "outputs": [],
   "source": []
  },
  {
   "cell_type": "markdown",
   "id": "1d535a08-b69e-4c43-a30a-d6c52b2dfce0",
   "metadata": {},
   "source": [
    "#### Histograms"
   ]
  },
  {
   "cell_type": "code",
   "execution_count": 48,
   "id": "daaeba7e-0f91-455a-9c3c-c8e1f11f1039",
   "metadata": {},
   "outputs": [
    {
     "data": {
      "text/plain": [
       "<Axes: ylabel='Frequency'>"
      ]
     },
     "execution_count": 48,
     "metadata": {},
     "output_type": "execute_result"
    },
    {
     "data": {
      "image/png": "[encoded data removed]",
      "text/plain": [
       "<Figure size 640x480 with 1 Axes>"
      ]
     },
     "metadata": {},
     "output_type": "display_data"
    }
   ],
   "source": [
    "df_ords_prods_current['prices'].plot.hist(bins = 25)"
   ]
  },
  {
   "cell_type": "code",
   "execution_count": 54,
   "id": "07d79a2f-48ae-43d7-adf0-7d0802b56b1b",
   "metadata": {},
   "outputs": [
    {
     "data": {
      "text/plain": [
       "count    3.240486e+07\n",
       "mean     9.826461e+00\n",
       "std      1.741430e+02\n",
       "min      1.000000e+00\n",
       "25%      4.200000e+00\n",
       "50%      7.400000e+00\n",
       "75%      1.130000e+01\n",
       "max      1.490000e+04\n",
       "Name: prices, dtype: float64"
      ]
     },
     "execution_count": 54,
     "metadata": {},
     "output_type": "execute_result"
    }
   ],
   "source": [
    "df_ords_prods_current['prices'].describe()"
   ]
  },
  {
   "cell_type": "code",
   "execution_count": 56,
   "id": "b42ebddf-894b-4eda-858f-f6bd6c5e6689",
   "metadata": {},
   "outputs": [
    {
     "data": {
      "text/plain": [
       "<Axes: xlabel='prices', ylabel='prices'>"
      ]
     },
     "execution_count": 56,
     "metadata": {},
     "output_type": "execute_result"
    },
    {
     "data": {
      "image/png": "[encoded data removed]",
      "text/plain": [
       "<Figure size 640x480 with 1 Axes>"
      ]
     },
     "metadata": {},
     "output_type": "display_data"
    }
   ],
   "source": [
    "sns.scatterplot(x = 'prices', y = 'prices', data = df_ords_prods_current)"
   ]
  },
  {
   "cell_type": "code",
   "execution_count": 60,
   "id": "cb135f39-d1d0-4752-86fe-b3b2d7ab9721",
   "metadata": {},
   "outputs": [
    {
     "data": {
      "text/html": [
       "<div>\n",
       "<style scoped>\n",
       "    .dataframe tbody tr th:only-of-type {\n",
       "        vertical-align: middle;\n",
       "    }\n",
       "\n",
       "    .dataframe tbody tr th {\n",
       "        vertical-align: top;\n",
       "    }\n",
       "\n",
       "    .dataframe thead th {\n",
       "        text-align: right;\n",
       "    }\n",
       "</style>\n",
       "<table border=\"1\" class=\"dataframe\">\n",
       "  <thead>\n",
       "    <tr style=\"text-align: right;\">\n",
       "      <th></th>\n",
       "      <th>order_id</th>\n",
       "      <th>user_id</th>\n",
       "      <th>order_number</th>\n",
       "      <th>orders_day_of_week</th>\n",
       "      <th>order_time</th>\n",
       "      <th>days_since_prior_order</th>\n",
       "      <th>product_id</th>\n",
       "      <th>add_to_cart_order</th>\n",
       "      <th>reordered</th>\n",
       "      <th>product_name</th>\n",
       "      <th>...</th>\n",
       "      <th>busiest day</th>\n",
       "      <th>busiest_days_loc</th>\n",
       "      <th>busiest_period_of_day</th>\n",
       "      <th>max_order</th>\n",
       "      <th>loyalty_flag</th>\n",
       "      <th>spending_habits</th>\n",
       "      <th>spending flag</th>\n",
       "      <th>ordering_frequency</th>\n",
       "      <th>order_frequency_flag</th>\n",
       "      <th>busiest_period_of_day_2</th>\n",
       "    </tr>\n",
       "  </thead>\n",
       "  <tbody>\n",
       "    <tr>\n",
       "      <th>1576</th>\n",
       "      <td>912404</td>\n",
       "      <td>17</td>\n",
       "      <td>12</td>\n",
       "      <td>2</td>\n",
       "      <td>14</td>\n",
       "      <td>5.0</td>\n",
       "      <td>21553</td>\n",
       "      <td>5</td>\n",
       "      <td>0</td>\n",
       "      <td>Lowfat 2% Milkfat Cottage Cheese</td>\n",
       "      <td>...</td>\n",
       "      <td>regular busy</td>\n",
       "      <td>regular busy days</td>\n",
       "      <td>most orders</td>\n",
       "      <td>40</td>\n",
       "      <td>regular customer</td>\n",
       "      <td>108.648299</td>\n",
       "      <td>high spender</td>\n",
       "      <td>5.0</td>\n",
       "      <td>frequent customer</td>\n",
       "      <td>most orders 2</td>\n",
       "    </tr>\n",
       "    <tr>\n",
       "      <th>1638</th>\n",
       "      <td>603376</td>\n",
       "      <td>17</td>\n",
       "      <td>22</td>\n",
       "      <td>6</td>\n",
       "      <td>16</td>\n",
       "      <td>4.0</td>\n",
       "      <td>21553</td>\n",
       "      <td>3</td>\n",
       "      <td>1</td>\n",
       "      <td>Lowfat 2% Milkfat Cottage Cheese</td>\n",
       "      <td>...</td>\n",
       "      <td>regular busy</td>\n",
       "      <td>regular busy days</td>\n",
       "      <td>most orders</td>\n",
       "      <td>40</td>\n",
       "      <td>regular customer</td>\n",
       "      <td>108.648299</td>\n",
       "      <td>high spender</td>\n",
       "      <td>5.0</td>\n",
       "      <td>frequent customer</td>\n",
       "      <td>most orders 2</td>\n",
       "    </tr>\n",
       "    <tr>\n",
       "      <th>16522</th>\n",
       "      <td>3264360</td>\n",
       "      <td>135</td>\n",
       "      <td>2</td>\n",
       "      <td>2</td>\n",
       "      <td>21</td>\n",
       "      <td>13.0</td>\n",
       "      <td>21553</td>\n",
       "      <td>6</td>\n",
       "      <td>0</td>\n",
       "      <td>Lowfat 2% Milkfat Cottage Cheese</td>\n",
       "      <td>...</td>\n",
       "      <td>regular busy</td>\n",
       "      <td>regular busy days</td>\n",
       "      <td>average orders</td>\n",
       "      <td>4</td>\n",
       "      <td>new customer</td>\n",
       "      <td>1154.792308</td>\n",
       "      <td>high spender</td>\n",
       "      <td>12.0</td>\n",
       "      <td>regular customer</td>\n",
       "      <td>average orders 2</td>\n",
       "    </tr>\n",
       "    <tr>\n",
       "      <th>16528</th>\n",
       "      <td>892534</td>\n",
       "      <td>135</td>\n",
       "      <td>3</td>\n",
       "      <td>0</td>\n",
       "      <td>8</td>\n",
       "      <td>12.0</td>\n",
       "      <td>21553</td>\n",
       "      <td>3</td>\n",
       "      <td>1</td>\n",
       "      <td>Lowfat 2% Milkfat Cottage Cheese</td>\n",
       "      <td>...</td>\n",
       "      <td>busiest day</td>\n",
       "      <td>busiest days</td>\n",
       "      <td>average orders</td>\n",
       "      <td>4</td>\n",
       "      <td>new customer</td>\n",
       "      <td>1154.792308</td>\n",
       "      <td>high spender</td>\n",
       "      <td>12.0</td>\n",
       "      <td>regular customer</td>\n",
       "      <td>average orders 2</td>\n",
       "    </tr>\n",
       "    <tr>\n",
       "      <th>53672</th>\n",
       "      <td>229704</td>\n",
       "      <td>342</td>\n",
       "      <td>8</td>\n",
       "      <td>1</td>\n",
       "      <td>19</td>\n",
       "      <td>30.0</td>\n",
       "      <td>21553</td>\n",
       "      <td>9</td>\n",
       "      <td>0</td>\n",
       "      <td>Lowfat 2% Milkfat Cottage Cheese</td>\n",
       "      <td>...</td>\n",
       "      <td>regular busy</td>\n",
       "      <td>busiest days</td>\n",
       "      <td>average orders</td>\n",
       "      <td>16</td>\n",
       "      <td>regular customer</td>\n",
       "      <td>114.426619</td>\n",
       "      <td>high spender</td>\n",
       "      <td>23.0</td>\n",
       "      <td>non-frequent customer</td>\n",
       "      <td>average orders 2</td>\n",
       "    </tr>\n",
       "    <tr>\n",
       "      <th>...</th>\n",
       "      <td>...</td>\n",
       "      <td>...</td>\n",
       "      <td>...</td>\n",
       "      <td>...</td>\n",
       "      <td>...</td>\n",
       "      <td>...</td>\n",
       "      <td>...</td>\n",
       "      <td>...</td>\n",
       "      <td>...</td>\n",
       "      <td>...</td>\n",
       "      <td>...</td>\n",
       "      <td>...</td>\n",
       "      <td>...</td>\n",
       "      <td>...</td>\n",
       "      <td>...</td>\n",
       "      <td>...</td>\n",
       "      <td>...</td>\n",
       "      <td>...</td>\n",
       "      <td>...</td>\n",
       "      <td>...</td>\n",
       "      <td>...</td>\n",
       "    </tr>\n",
       "    <tr>\n",
       "      <th>32320511</th>\n",
       "      <td>3172853</td>\n",
       "      <td>205650</td>\n",
       "      <td>18</td>\n",
       "      <td>1</td>\n",
       "      <td>9</td>\n",
       "      <td>7.0</td>\n",
       "      <td>21553</td>\n",
       "      <td>17</td>\n",
       "      <td>1</td>\n",
       "      <td>Lowfat 2% Milkfat Cottage Cheese</td>\n",
       "      <td>...</td>\n",
       "      <td>regular busy</td>\n",
       "      <td>busiest days</td>\n",
       "      <td>most orders</td>\n",
       "      <td>25</td>\n",
       "      <td>regular customer</td>\n",
       "      <td>351.141618</td>\n",
       "      <td>high spender</td>\n",
       "      <td>6.0</td>\n",
       "      <td>frequent customer</td>\n",
       "      <td>most orders 2</td>\n",
       "    </tr>\n",
       "    <tr>\n",
       "      <th>32347717</th>\n",
       "      <td>2504315</td>\n",
       "      <td>205818</td>\n",
       "      <td>3</td>\n",
       "      <td>5</td>\n",
       "      <td>15</td>\n",
       "      <td>3.0</td>\n",
       "      <td>21553</td>\n",
       "      <td>13</td>\n",
       "      <td>0</td>\n",
       "      <td>Lowfat 2% Milkfat Cottage Cheese</td>\n",
       "      <td>...</td>\n",
       "      <td>regular busy</td>\n",
       "      <td>regular busy days</td>\n",
       "      <td>most orders</td>\n",
       "      <td>25</td>\n",
       "      <td>regular customer</td>\n",
       "      <td>170.073770</td>\n",
       "      <td>high spender</td>\n",
       "      <td>13.0</td>\n",
       "      <td>regular customer</td>\n",
       "      <td>most orders 2</td>\n",
       "    </tr>\n",
       "    <tr>\n",
       "      <th>32347727</th>\n",
       "      <td>1108388</td>\n",
       "      <td>205818</td>\n",
       "      <td>5</td>\n",
       "      <td>4</td>\n",
       "      <td>5</td>\n",
       "      <td>1.0</td>\n",
       "      <td>21553</td>\n",
       "      <td>5</td>\n",
       "      <td>1</td>\n",
       "      <td>Lowfat 2% Milkfat Cottage Cheese</td>\n",
       "      <td>...</td>\n",
       "      <td>least busy</td>\n",
       "      <td>least busiest days</td>\n",
       "      <td>fewest orders</td>\n",
       "      <td>25</td>\n",
       "      <td>regular customer</td>\n",
       "      <td>170.073770</td>\n",
       "      <td>high spender</td>\n",
       "      <td>13.0</td>\n",
       "      <td>regular customer</td>\n",
       "      <td>fewest orders 2</td>\n",
       "    </tr>\n",
       "    <tr>\n",
       "      <th>32380527</th>\n",
       "      <td>1916142</td>\n",
       "      <td>206049</td>\n",
       "      <td>1</td>\n",
       "      <td>2</td>\n",
       "      <td>17</td>\n",
       "      <td>NaN</td>\n",
       "      <td>21553</td>\n",
       "      <td>2</td>\n",
       "      <td>0</td>\n",
       "      <td>Lowfat 2% Milkfat Cottage Cheese</td>\n",
       "      <td>...</td>\n",
       "      <td>regular busy</td>\n",
       "      <td>regular busy days</td>\n",
       "      <td>average orders</td>\n",
       "      <td>5</td>\n",
       "      <td>new customer</td>\n",
       "      <td>938.031250</td>\n",
       "      <td>high spender</td>\n",
       "      <td>7.0</td>\n",
       "      <td>frequent customer</td>\n",
       "      <td>average orders 2</td>\n",
       "    </tr>\n",
       "    <tr>\n",
       "      <th>32380551</th>\n",
       "      <td>379732</td>\n",
       "      <td>206049</td>\n",
       "      <td>4</td>\n",
       "      <td>1</td>\n",
       "      <td>14</td>\n",
       "      <td>5.0</td>\n",
       "      <td>21553</td>\n",
       "      <td>4</td>\n",
       "      <td>1</td>\n",
       "      <td>Lowfat 2% Milkfat Cottage Cheese</td>\n",
       "      <td>...</td>\n",
       "      <td>regular busy</td>\n",
       "      <td>busiest days</td>\n",
       "      <td>most orders</td>\n",
       "      <td>5</td>\n",
       "      <td>new customer</td>\n",
       "      <td>938.031250</td>\n",
       "      <td>high spender</td>\n",
       "      <td>7.0</td>\n",
       "      <td>frequent customer</td>\n",
       "      <td>most orders 2</td>\n",
       "    </tr>\n",
       "  </tbody>\n",
       "</table>\n",
       "<p>4429 rows × 25 columns</p>\n",
       "</div>"
      ],
      "text/plain": [
       "          order_id  user_id  order_number  orders_day_of_week  order_time  \\\n",
       "1576        912404       17            12                   2          14   \n",
       "1638        603376       17            22                   6          16   \n",
       "16522      3264360      135             2                   2          21   \n",
       "16528       892534      135             3                   0           8   \n",
       "53672       229704      342             8                   1          19   \n",
       "...            ...      ...           ...                 ...         ...   \n",
       "32320511   3172853   205650            18                   1           9   \n",
       "32347717   2504315   205818             3                   5          15   \n",
       "32347727   1108388   205818             5                   4           5   \n",
       "32380527   1916142   206049             1                   2          17   \n",
       "32380551    379732   206049             4                   1          14   \n",
       "\n",
       "          days_since_prior_order  product_id  add_to_cart_order  reordered  \\\n",
       "1576                         5.0       21553                  5          0   \n",
       "1638                         4.0       21553                  3          1   \n",
       "16522                       13.0       21553                  6          0   \n",
       "16528                       12.0       21553                  3          1   \n",
       "53672                       30.0       21553                  9          0   \n",
       "...                          ...         ...                ...        ...   \n",
       "32320511                     7.0       21553                 17          1   \n",
       "32347717                     3.0       21553                 13          0   \n",
       "32347727                     1.0       21553                  5          1   \n",
       "32380527                     NaN       21553                  2          0   \n",
       "32380551                     5.0       21553                  4          1   \n",
       "\n",
       "                              product_name  ...   busiest day  \\\n",
       "1576      Lowfat 2% Milkfat Cottage Cheese  ...  regular busy   \n",
       "1638      Lowfat 2% Milkfat Cottage Cheese  ...  regular busy   \n",
       "16522     Lowfat 2% Milkfat Cottage Cheese  ...  regular busy   \n",
       "16528     Lowfat 2% Milkfat Cottage Cheese  ...   busiest day   \n",
       "53672     Lowfat 2% Milkfat Cottage Cheese  ...  regular busy   \n",
       "...                                    ...  ...           ...   \n",
       "32320511  Lowfat 2% Milkfat Cottage Cheese  ...  regular busy   \n",
       "32347717  Lowfat 2% Milkfat Cottage Cheese  ...  regular busy   \n",
       "32347727  Lowfat 2% Milkfat Cottage Cheese  ...    least busy   \n",
       "32380527  Lowfat 2% Milkfat Cottage Cheese  ...  regular busy   \n",
       "32380551  Lowfat 2% Milkfat Cottage Cheese  ...  regular busy   \n",
       "\n",
       "            busiest_days_loc  busiest_period_of_day max_order  \\\n",
       "1576       regular busy days            most orders        40   \n",
       "1638       regular busy days            most orders        40   \n",
       "16522      regular busy days         average orders         4   \n",
       "16528           busiest days         average orders         4   \n",
       "53672           busiest days         average orders        16   \n",
       "...                      ...                    ...       ...   \n",
       "32320511        busiest days            most orders        25   \n",
       "32347717   regular busy days            most orders        25   \n",
       "32347727  least busiest days          fewest orders        25   \n",
       "32380527   regular busy days         average orders         5   \n",
       "32380551        busiest days            most orders         5   \n",
       "\n",
       "              loyalty_flag spending_habits spending flag ordering_frequency  \\\n",
       "1576      regular customer      108.648299  high spender                5.0   \n",
       "1638      regular customer      108.648299  high spender                5.0   \n",
       "16522         new customer     1154.792308  high spender               12.0   \n",
       "16528         new customer     1154.792308  high spender               12.0   \n",
       "53672     regular customer      114.426619  high spender               23.0   \n",
       "...                    ...             ...           ...                ...   \n",
       "32320511  regular customer      351.141618  high spender                6.0   \n",
       "32347717  regular customer      170.073770  high spender               13.0   \n",
       "32347727  regular customer      170.073770  high spender               13.0   \n",
       "32380527      new customer      938.031250  high spender                7.0   \n",
       "32380551      new customer      938.031250  high spender                7.0   \n",
       "\n",
       "           order_frequency_flag busiest_period_of_day_2  \n",
       "1576          frequent customer           most orders 2  \n",
       "1638          frequent customer           most orders 2  \n",
       "16522          regular customer        average orders 2  \n",
       "16528          regular customer        average orders 2  \n",
       "53672     non-frequent customer        average orders 2  \n",
       "...                         ...                     ...  \n",
       "32320511      frequent customer           most orders 2  \n",
       "32347717       regular customer           most orders 2  \n",
       "32347727       regular customer         fewest orders 2  \n",
       "32380527      frequent customer        average orders 2  \n",
       "32380551      frequent customer           most orders 2  \n",
       "\n",
       "[4429 rows x 25 columns]"
      ]
     },
     "execution_count": 60,
     "metadata": {},
     "output_type": "execute_result"
    }
   ],
   "source": [
    "# Checking vor values >100\n",
    "df_ords_prods_current.loc[df_ords_prods_current['prices'] > 100]"
   ]
  },
  {
   "cell_type": "code",
   "execution_count": 62,
   "id": "f4ee2038-6280-458a-b05e-eeafc9899dc9",
   "metadata": {},
   "outputs": [],
   "source": [
    "# Changing values >100 to NaNs\n",
    "df_ords_prods_current.loc[df_ords_prods_current['prices'] >100, 'prices'] = np.nan"
   ]
  },
  {
   "cell_type": "code",
   "execution_count": 64,
   "id": "a4b807f1-b1b0-4dba-b5fa-c000aec062c8",
   "metadata": {},
   "outputs": [
    {
     "data": {
      "text/html": [
       "<div>\n",
       "<style scoped>\n",
       "    .dataframe tbody tr th:only-of-type {\n",
       "        vertical-align: middle;\n",
       "    }\n",
       "\n",
       "    .dataframe tbody tr th {\n",
       "        vertical-align: top;\n",
       "    }\n",
       "\n",
       "    .dataframe thead th {\n",
       "        text-align: right;\n",
       "    }\n",
       "</style>\n",
       "<table border=\"1\" class=\"dataframe\">\n",
       "  <thead>\n",
       "    <tr style=\"text-align: right;\">\n",
       "      <th></th>\n",
       "      <th>order_id</th>\n",
       "      <th>user_id</th>\n",
       "      <th>order_number</th>\n",
       "      <th>orders_day_of_week</th>\n",
       "      <th>order_time</th>\n",
       "      <th>days_since_prior_order</th>\n",
       "      <th>product_id</th>\n",
       "      <th>add_to_cart_order</th>\n",
       "      <th>reordered</th>\n",
       "      <th>product_name</th>\n",
       "      <th>...</th>\n",
       "      <th>busiest day</th>\n",
       "      <th>busiest_days_loc</th>\n",
       "      <th>busiest_period_of_day</th>\n",
       "      <th>max_order</th>\n",
       "      <th>loyalty_flag</th>\n",
       "      <th>spending_habits</th>\n",
       "      <th>spending flag</th>\n",
       "      <th>ordering_frequency</th>\n",
       "      <th>order_frequency_flag</th>\n",
       "      <th>busiest_period_of_day_2</th>\n",
       "    </tr>\n",
       "  </thead>\n",
       "  <tbody>\n",
       "  </tbody>\n",
       "</table>\n",
       "<p>0 rows × 25 columns</p>\n",
       "</div>"
      ],
      "text/plain": [
       "Empty DataFrame\n",
       "Columns: [order_id, user_id, order_number, orders_day_of_week, order_time, days_since_prior_order, product_id, add_to_cart_order, reordered, product_name, aisle_id, department_id, prices, _merge, price_range_loc, busiest day, busiest_days_loc, busiest_period_of_day, max_order, loyalty_flag, spending_habits, spending flag, ordering_frequency, order_frequency_flag, busiest_period_of_day_2]\n",
       "Index: []\n",
       "\n",
       "[0 rows x 25 columns]"
      ]
     },
     "execution_count": 64,
     "metadata": {},
     "output_type": "execute_result"
    }
   ],
   "source": [
    "# Checking for vakues above 100\n",
    "df_ords_prods_current.loc[df_ords_prods_current['prices'] > 100]"
   ]
  },
  {
   "cell_type": "code",
   "execution_count": 68,
   "id": "2faf381a-9aff-4325-9f9e-23c77afd7791",
   "metadata": {},
   "outputs": [
    {
     "data": {
      "text/plain": [
       "25.0"
      ]
     },
     "execution_count": 68,
     "metadata": {},
     "output_type": "execute_result"
    }
   ],
   "source": [
    "# Checking max value\n",
    "df_ords_prods_current['prices'].max()"
   ]
  },
  {
   "cell_type": "code",
   "execution_count": 70,
   "id": "a2d0d66f-47ef-42f0-b972-a02e4cef78bb",
   "metadata": {},
   "outputs": [
    {
     "data": {
      "image/png": "[encoded data removed]",
      "text/plain": [
       "<Figure size 640x480 with 1 Axes>"
      ]
     },
     "metadata": {},
     "output_type": "display_data"
    }
   ],
   "source": [
    "# Creating histogram of prices (25 bins)\n",
    "hist = df_ords_prods_current['prices'].plot.hist(bins = 25)"
   ]
  },
  {
   "cell_type": "code",
   "execution_count": 72,
   "id": "4090f996-3d61-426e-9e99-c27df299922e",
   "metadata": {},
   "outputs": [
    {
     "data": {
      "image/png": "[encoded data removed]",
      "text/plain": [
       "<Figure size 640x480 with 1 Axes>"
      ]
     },
     "metadata": {},
     "output_type": "display_data"
    }
   ],
   "source": [
    "# Creating histogram of prices (70 bins)\n",
    "hist = df_ords_prods_current['prices'].plot.hist(bins = 70)"
   ]
  },
  {
   "cell_type": "code",
   "execution_count": 74,
   "id": "cbe80251-e4eb-4857-996e-668d5fb9b4d5",
   "metadata": {},
   "outputs": [],
   "source": [
    "hist.figure.savefig (os.path.join(path_2, 'Visualisations', 'hist_prices.png'))"
   ]
  },
  {
   "cell_type": "markdown",
   "id": "69172010-fa58-4d2e-ac20-af2a4d749d3e",
   "metadata": {},
   "source": [
    "## Sampling Data"
   ]
  },
  {
   "cell_type": "code",
   "execution_count": 82,
   "id": "86f9bad3-8ce3-488c-9894-6b9667e7540b",
   "metadata": {},
   "outputs": [],
   "source": [
    "np.random.seed(4)\n",
    "dev = np.random.rand(len(df_ords_prods_current))<= 0.7"
   ]
  },
  {
   "cell_type": "code",
   "execution_count": 84,
   "id": "75a05444-5135-4671-b856-d285f44f89f2",
   "metadata": {},
   "outputs": [
    {
     "data": {
      "text/plain": [
       "array([False,  True, False, ...,  True,  True,  True])"
      ]
     },
     "execution_count": 84,
     "metadata": {},
     "output_type": "execute_result"
    }
   ],
   "source": [
    "dev"
   ]
  },
  {
   "cell_type": "code",
   "execution_count": 86,
   "id": "6fb45153-9e37-4e28-84ad-672928836e24",
   "metadata": {},
   "outputs": [],
   "source": [
    "big = df_ords_prods_current[dev]\n",
    "small = df_ords_prods_current[~dev]"
   ]
  },
  {
   "cell_type": "code",
   "execution_count": 96,
   "id": "2b601620-45e1-41d3-b78a-b87a6b8e0f09",
   "metadata": {},
   "outputs": [
    {
     "data": {
      "text/plain": [
       "32404859"
      ]
     },
     "execution_count": 96,
     "metadata": {},
     "output_type": "execute_result"
    }
   ],
   "source": [
    "len(df_ords_prods_current)"
   ]
  },
  {
   "cell_type": "code",
   "execution_count": 98,
   "id": "8b985443-50d6-4b44-92d2-7d265e64809b",
   "metadata": {},
   "outputs": [
    {
     "data": {
      "text/plain": [
       "32404859"
      ]
     },
     "execution_count": 98,
     "metadata": {},
     "output_type": "execute_result"
    }
   ],
   "source": [
    "len(big) + len(small)"
   ]
  },
  {
   "cell_type": "code",
   "execution_count": 104,
   "id": "b2737b02-b92f-4f07-9ed3-2108bfdf8b96",
   "metadata": {},
   "outputs": [],
   "source": [
    "df_2 = small[['orders_day_of_week', 'prices']]"
   ]
  },
  {
   "cell_type": "code",
   "execution_count": 106,
   "id": "82469eb0-2d6e-4c5f-9c57-0f017e9b914e",
   "metadata": {},
   "outputs": [
    {
     "data": {
      "text/plain": [
       "(9721098, 2)"
      ]
     },
     "execution_count": 106,
     "metadata": {},
     "output_type": "execute_result"
    }
   ],
   "source": [
    "df_2.shape"
   ]
  },
  {
   "cell_type": "code",
   "execution_count": 108,
   "id": "2b795bfd-2870-4996-99bd-a6ae35cfb5cd",
   "metadata": {},
   "outputs": [
    {
     "data": {
      "image/png": "[encoded data removed]",
      "text/plain": [
       "<Figure size 640x480 with 1 Axes>"
      ]
     },
     "metadata": {},
     "output_type": "display_data"
    }
   ],
   "source": [
    "line = sns.lineplot(data = df_2, x = 'orders_day_of_week', y = 'prices')"
   ]
  },
  {
   "cell_type": "code",
   "execution_count": 112,
   "id": "c8c062ff-6043-4b8e-bd3a-e2d401af9518",
   "metadata": {},
   "outputs": [],
   "source": [
    "df_ords_prods_current.to_pickle(os.path.join(path,'Prepared Data', 'ords_prods_current.pkl'))"
   ]
  },
  {
   "cell_type": "code",
   "execution_count": 114,
   "id": "7c89ccf2-c23e-4ed0-9d30-3c8a4fcc469b",
   "metadata": {},
   "outputs": [
    {
     "name": "stdout",
     "output_type": "stream",
     "text": [
      "<class 'pandas.core.frame.DataFrame'>\n",
      "RangeIndex: 32404859 entries, 0 to 32404858\n",
      "Data columns (total 25 columns):\n",
      " #   Column                   Dtype   \n",
      "---  ------                   -----   \n",
      " 0   order_id                 int64   \n",
      " 1   user_id                  int64   \n",
      " 2   order_number             int64   \n",
      " 3   orders_day_of_week       int64   \n",
      " 4   order_time               int64   \n",
      " 5   days_since_prior_order   float64 \n",
      " 6   product_id               int64   \n",
      " 7   add_to_cart_order        int64   \n",
      " 8   reordered                int64   \n",
      " 9   product_name             object  \n",
      " 10  aisle_id                 int64   \n",
      " 11  department_id            int64   \n",
      " 12  prices                   float64 \n",
      " 13  _merge                   category\n",
      " 14  price_range_loc          object  \n",
      " 15  busiest day              object  \n",
      " 16  busiest_days_loc         object  \n",
      " 17  busiest_period_of_day    object  \n",
      " 18  max_order                int64   \n",
      " 19  loyalty_flag             object  \n",
      " 20  spending_habits          float64 \n",
      " 21  spending flag            object  \n",
      " 22  ordering_frequency       float64 \n",
      " 23  order_frequency_flag     object  \n",
      " 24  busiest_period_of_day_2  object  \n",
      "dtypes: category(1), float64(4), int64(11), object(9)\n",
      "memory usage: 5.8+ GB\n"
     ]
    }
   ],
   "source": [
    "df_ords_prods_current.info()"
   ]
  },
  {
   "cell_type": "code",
   "execution_count": null,
   "id": "49282a2c-fad7-4907-b02a-17ee150723cc",
   "metadata": {},
   "outputs": [],
   "source": []
  }
 ],
 "metadata": {
  "kernelspec": {
   "display_name": "Python [conda env:base] *",
   "language": "python",
   "name": "conda-base-py"
  },
  "language_info": {
   "codemirror_mode": {
    "name": "ipython",
    "version": 3
   },
   "file_extension": ".py",
   "mimetype": "text/x-python",
   "name": "python",
   "nbconvert_exporter": "python",
   "pygments_lexer": "ipython3",
   "version": "3.12.7"
  }
 },
 "nbformat": 4,
 "nbformat_minor": 5
}
