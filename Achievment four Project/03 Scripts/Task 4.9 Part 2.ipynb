{
 "cells": [
  {
   "cell_type": "markdown",
   "id": "f2f4feb2-9f16-4ef6-9ce9-bd74a6cb2997",
   "metadata": {},
   "source": [
    "# Task 4.9 Part 2"
   ]
  },
  {
   "cell_type": "code",
   "execution_count": 2,
   "id": "0841d47a-8ec0-455d-80c5-37f432a820ef",
   "metadata": {},
   "outputs": [],
   "source": [
    "# Import libraries\n",
    "import pandas as pd \n",
    "import numpy as np \n",
    "import os \n",
    "import matplotlib.pyplot as plt \n",
    "import seaborn as sns \n",
    "import scipy"
   ]
  },
  {
   "cell_type": "code",
   "execution_count": 3,
   "id": "0db8c461-98be-4590-8975-0151572fcaa4",
   "metadata": {},
   "outputs": [],
   "source": [
    "# Import path\n",
    "path = r'/Users/hannahstrassmann/Desktop/Achievment four Project/two Data'"
   ]
  },
  {
   "cell_type": "code",
   "execution_count": 4,
   "id": "228f1472-2c4b-42ab-ad10-b547c688c558",
   "metadata": {},
   "outputs": [],
   "source": [
    "# Import datafram\n",
    "df_opc_merged = pd.read_pickle(os.path.join(path, 'Prepared Data', 'opc_merged.pkl'))"
   ]
  },
  {
   "cell_type": "code",
   "execution_count": 5,
   "id": "bda62114-10b4-4877-b0cd-f6ec1685264a",
   "metadata": {},
   "outputs": [
    {
     "data": {
      "text/html": [
       "<div>\n",
       "<style scoped>\n",
       "    .dataframe tbody tr th:only-of-type {\n",
       "        vertical-align: middle;\n",
       "    }\n",
       "\n",
       "    .dataframe tbody tr th {\n",
       "        vertical-align: top;\n",
       "    }\n",
       "\n",
       "    .dataframe thead th {\n",
       "        text-align: right;\n",
       "    }\n",
       "</style>\n",
       "<table border=\"1\" class=\"dataframe\">\n",
       "  <thead>\n",
       "    <tr style=\"text-align: right;\">\n",
       "      <th></th>\n",
       "      <th>order_id</th>\n",
       "      <th>user_id</th>\n",
       "      <th>order_number</th>\n",
       "      <th>orders_day_of_week</th>\n",
       "      <th>order_time</th>\n",
       "      <th>days_since_prior_order</th>\n",
       "      <th>product_id</th>\n",
       "      <th>add_to_cart_order</th>\n",
       "      <th>reordered</th>\n",
       "      <th>product_name</th>\n",
       "      <th>...</th>\n",
       "      <th>busiest_period_of_day_2</th>\n",
       "      <th>First Name</th>\n",
       "      <th>Surnam</th>\n",
       "      <th>Gender</th>\n",
       "      <th>STATE</th>\n",
       "      <th>Age</th>\n",
       "      <th>date_joined</th>\n",
       "      <th>number_of_dependants</th>\n",
       "      <th>fam_status</th>\n",
       "      <th>income</th>\n",
       "    </tr>\n",
       "  </thead>\n",
       "  <tbody>\n",
       "    <tr>\n",
       "      <th>0</th>\n",
       "      <td>2539329</td>\n",
       "      <td>1</td>\n",
       "      <td>1</td>\n",
       "      <td>2</td>\n",
       "      <td>8</td>\n",
       "      <td>NaN</td>\n",
       "      <td>196</td>\n",
       "      <td>1</td>\n",
       "      <td>0</td>\n",
       "      <td>Soda</td>\n",
       "      <td>...</td>\n",
       "      <td>average orders 2</td>\n",
       "      <td>Linda</td>\n",
       "      <td>Nguyen</td>\n",
       "      <td>Female</td>\n",
       "      <td>Alabama</td>\n",
       "      <td>31</td>\n",
       "      <td>2/17/2019</td>\n",
       "      <td>3</td>\n",
       "      <td>married</td>\n",
       "      <td>40423</td>\n",
       "    </tr>\n",
       "    <tr>\n",
       "      <th>1</th>\n",
       "      <td>2539329</td>\n",
       "      <td>1</td>\n",
       "      <td>1</td>\n",
       "      <td>2</td>\n",
       "      <td>8</td>\n",
       "      <td>NaN</td>\n",
       "      <td>14084</td>\n",
       "      <td>2</td>\n",
       "      <td>0</td>\n",
       "      <td>Organic Unsweetened Vanilla Almond Milk</td>\n",
       "      <td>...</td>\n",
       "      <td>average orders 2</td>\n",
       "      <td>Linda</td>\n",
       "      <td>Nguyen</td>\n",
       "      <td>Female</td>\n",
       "      <td>Alabama</td>\n",
       "      <td>31</td>\n",
       "      <td>2/17/2019</td>\n",
       "      <td>3</td>\n",
       "      <td>married</td>\n",
       "      <td>40423</td>\n",
       "    </tr>\n",
       "    <tr>\n",
       "      <th>2</th>\n",
       "      <td>2539329</td>\n",
       "      <td>1</td>\n",
       "      <td>1</td>\n",
       "      <td>2</td>\n",
       "      <td>8</td>\n",
       "      <td>NaN</td>\n",
       "      <td>12427</td>\n",
       "      <td>3</td>\n",
       "      <td>0</td>\n",
       "      <td>Original Beef Jerky</td>\n",
       "      <td>...</td>\n",
       "      <td>average orders 2</td>\n",
       "      <td>Linda</td>\n",
       "      <td>Nguyen</td>\n",
       "      <td>Female</td>\n",
       "      <td>Alabama</td>\n",
       "      <td>31</td>\n",
       "      <td>2/17/2019</td>\n",
       "      <td>3</td>\n",
       "      <td>married</td>\n",
       "      <td>40423</td>\n",
       "    </tr>\n",
       "    <tr>\n",
       "      <th>3</th>\n",
       "      <td>2539329</td>\n",
       "      <td>1</td>\n",
       "      <td>1</td>\n",
       "      <td>2</td>\n",
       "      <td>8</td>\n",
       "      <td>NaN</td>\n",
       "      <td>26088</td>\n",
       "      <td>4</td>\n",
       "      <td>0</td>\n",
       "      <td>Aged White Cheddar Popcorn</td>\n",
       "      <td>...</td>\n",
       "      <td>average orders 2</td>\n",
       "      <td>Linda</td>\n",
       "      <td>Nguyen</td>\n",
       "      <td>Female</td>\n",
       "      <td>Alabama</td>\n",
       "      <td>31</td>\n",
       "      <td>2/17/2019</td>\n",
       "      <td>3</td>\n",
       "      <td>married</td>\n",
       "      <td>40423</td>\n",
       "    </tr>\n",
       "    <tr>\n",
       "      <th>4</th>\n",
       "      <td>2539329</td>\n",
       "      <td>1</td>\n",
       "      <td>1</td>\n",
       "      <td>2</td>\n",
       "      <td>8</td>\n",
       "      <td>NaN</td>\n",
       "      <td>26405</td>\n",
       "      <td>5</td>\n",
       "      <td>0</td>\n",
       "      <td>XL Pick-A-Size Paper Towel Rolls</td>\n",
       "      <td>...</td>\n",
       "      <td>average orders 2</td>\n",
       "      <td>Linda</td>\n",
       "      <td>Nguyen</td>\n",
       "      <td>Female</td>\n",
       "      <td>Alabama</td>\n",
       "      <td>31</td>\n",
       "      <td>2/17/2019</td>\n",
       "      <td>3</td>\n",
       "      <td>married</td>\n",
       "      <td>40423</td>\n",
       "    </tr>\n",
       "  </tbody>\n",
       "</table>\n",
       "<p>5 rows × 34 columns</p>\n",
       "</div>"
      ],
      "text/plain": [
       "   order_id user_id  order_number  orders_day_of_week  order_time  \\\n",
       "0   2539329       1             1                   2           8   \n",
       "1   2539329       1             1                   2           8   \n",
       "2   2539329       1             1                   2           8   \n",
       "3   2539329       1             1                   2           8   \n",
       "4   2539329       1             1                   2           8   \n",
       "\n",
       "   days_since_prior_order  product_id  add_to_cart_order  reordered  \\\n",
       "0                     NaN         196                  1          0   \n",
       "1                     NaN       14084                  2          0   \n",
       "2                     NaN       12427                  3          0   \n",
       "3                     NaN       26088                  4          0   \n",
       "4                     NaN       26405                  5          0   \n",
       "\n",
       "                              product_name  ...  busiest_period_of_day_2  \\\n",
       "0                                     Soda  ...         average orders 2   \n",
       "1  Organic Unsweetened Vanilla Almond Milk  ...         average orders 2   \n",
       "2                      Original Beef Jerky  ...         average orders 2   \n",
       "3               Aged White Cheddar Popcorn  ...         average orders 2   \n",
       "4         XL Pick-A-Size Paper Towel Rolls  ...         average orders 2   \n",
       "\n",
       "   First Name  Surnam  Gender    STATE Age date_joined number_of_dependants  \\\n",
       "0       Linda  Nguyen  Female  Alabama  31   2/17/2019                    3   \n",
       "1       Linda  Nguyen  Female  Alabama  31   2/17/2019                    3   \n",
       "2       Linda  Nguyen  Female  Alabama  31   2/17/2019                    3   \n",
       "3       Linda  Nguyen  Female  Alabama  31   2/17/2019                    3   \n",
       "4       Linda  Nguyen  Female  Alabama  31   2/17/2019                    3   \n",
       "\n",
       "   fam_status income  \n",
       "0     married  40423  \n",
       "1     married  40423  \n",
       "2     married  40423  \n",
       "3     married  40423  \n",
       "4     married  40423  \n",
       "\n",
       "[5 rows x 34 columns]"
      ]
     },
     "execution_count": 5,
     "metadata": {},
     "output_type": "execute_result"
    }
   ],
   "source": [
    "# Checking df\n",
    "df_opc_merged.head()"
   ]
  },
  {
   "cell_type": "code",
   "execution_count": 6,
   "id": "0162473f-94f9-4c93-9319-8faf37798d10",
   "metadata": {},
   "outputs": [],
   "source": [
    "# Correcting small oversight: Changing STATE to State\n",
    "df_opc_merged.rename(columns = {'STATE' : 'State'}, inplace = True)"
   ]
  },
  {
   "cell_type": "code",
   "execution_count": 7,
   "id": "94d0bb3c-bcd4-4cbf-9350-76a4bb519bd4",
   "metadata": {},
   "outputs": [
    {
     "data": {
      "text/html": [
       "<div>\n",
       "<style scoped>\n",
       "    .dataframe tbody tr th:only-of-type {\n",
       "        vertical-align: middle;\n",
       "    }\n",
       "\n",
       "    .dataframe tbody tr th {\n",
       "        vertical-align: top;\n",
       "    }\n",
       "\n",
       "    .dataframe thead th {\n",
       "        text-align: right;\n",
       "    }\n",
       "</style>\n",
       "<table border=\"1\" class=\"dataframe\">\n",
       "  <thead>\n",
       "    <tr style=\"text-align: right;\">\n",
       "      <th></th>\n",
       "      <th>order_id</th>\n",
       "      <th>user_id</th>\n",
       "      <th>order_number</th>\n",
       "      <th>orders_day_of_week</th>\n",
       "      <th>order_time</th>\n",
       "      <th>days_since_prior_order</th>\n",
       "      <th>product_id</th>\n",
       "      <th>add_to_cart_order</th>\n",
       "      <th>reordered</th>\n",
       "      <th>product_name</th>\n",
       "      <th>...</th>\n",
       "      <th>busiest_period_of_day_2</th>\n",
       "      <th>First Name</th>\n",
       "      <th>Surnam</th>\n",
       "      <th>Gender</th>\n",
       "      <th>State</th>\n",
       "      <th>Age</th>\n",
       "      <th>date_joined</th>\n",
       "      <th>number_of_dependants</th>\n",
       "      <th>fam_status</th>\n",
       "      <th>income</th>\n",
       "    </tr>\n",
       "  </thead>\n",
       "  <tbody>\n",
       "    <tr>\n",
       "      <th>0</th>\n",
       "      <td>2539329</td>\n",
       "      <td>1</td>\n",
       "      <td>1</td>\n",
       "      <td>2</td>\n",
       "      <td>8</td>\n",
       "      <td>NaN</td>\n",
       "      <td>196</td>\n",
       "      <td>1</td>\n",
       "      <td>0</td>\n",
       "      <td>Soda</td>\n",
       "      <td>...</td>\n",
       "      <td>average orders 2</td>\n",
       "      <td>Linda</td>\n",
       "      <td>Nguyen</td>\n",
       "      <td>Female</td>\n",
       "      <td>Alabama</td>\n",
       "      <td>31</td>\n",
       "      <td>2/17/2019</td>\n",
       "      <td>3</td>\n",
       "      <td>married</td>\n",
       "      <td>40423</td>\n",
       "    </tr>\n",
       "    <tr>\n",
       "      <th>1</th>\n",
       "      <td>2539329</td>\n",
       "      <td>1</td>\n",
       "      <td>1</td>\n",
       "      <td>2</td>\n",
       "      <td>8</td>\n",
       "      <td>NaN</td>\n",
       "      <td>14084</td>\n",
       "      <td>2</td>\n",
       "      <td>0</td>\n",
       "      <td>Organic Unsweetened Vanilla Almond Milk</td>\n",
       "      <td>...</td>\n",
       "      <td>average orders 2</td>\n",
       "      <td>Linda</td>\n",
       "      <td>Nguyen</td>\n",
       "      <td>Female</td>\n",
       "      <td>Alabama</td>\n",
       "      <td>31</td>\n",
       "      <td>2/17/2019</td>\n",
       "      <td>3</td>\n",
       "      <td>married</td>\n",
       "      <td>40423</td>\n",
       "    </tr>\n",
       "    <tr>\n",
       "      <th>2</th>\n",
       "      <td>2539329</td>\n",
       "      <td>1</td>\n",
       "      <td>1</td>\n",
       "      <td>2</td>\n",
       "      <td>8</td>\n",
       "      <td>NaN</td>\n",
       "      <td>12427</td>\n",
       "      <td>3</td>\n",
       "      <td>0</td>\n",
       "      <td>Original Beef Jerky</td>\n",
       "      <td>...</td>\n",
       "      <td>average orders 2</td>\n",
       "      <td>Linda</td>\n",
       "      <td>Nguyen</td>\n",
       "      <td>Female</td>\n",
       "      <td>Alabama</td>\n",
       "      <td>31</td>\n",
       "      <td>2/17/2019</td>\n",
       "      <td>3</td>\n",
       "      <td>married</td>\n",
       "      <td>40423</td>\n",
       "    </tr>\n",
       "    <tr>\n",
       "      <th>3</th>\n",
       "      <td>2539329</td>\n",
       "      <td>1</td>\n",
       "      <td>1</td>\n",
       "      <td>2</td>\n",
       "      <td>8</td>\n",
       "      <td>NaN</td>\n",
       "      <td>26088</td>\n",
       "      <td>4</td>\n",
       "      <td>0</td>\n",
       "      <td>Aged White Cheddar Popcorn</td>\n",
       "      <td>...</td>\n",
       "      <td>average orders 2</td>\n",
       "      <td>Linda</td>\n",
       "      <td>Nguyen</td>\n",
       "      <td>Female</td>\n",
       "      <td>Alabama</td>\n",
       "      <td>31</td>\n",
       "      <td>2/17/2019</td>\n",
       "      <td>3</td>\n",
       "      <td>married</td>\n",
       "      <td>40423</td>\n",
       "    </tr>\n",
       "    <tr>\n",
       "      <th>4</th>\n",
       "      <td>2539329</td>\n",
       "      <td>1</td>\n",
       "      <td>1</td>\n",
       "      <td>2</td>\n",
       "      <td>8</td>\n",
       "      <td>NaN</td>\n",
       "      <td>26405</td>\n",
       "      <td>5</td>\n",
       "      <td>0</td>\n",
       "      <td>XL Pick-A-Size Paper Towel Rolls</td>\n",
       "      <td>...</td>\n",
       "      <td>average orders 2</td>\n",
       "      <td>Linda</td>\n",
       "      <td>Nguyen</td>\n",
       "      <td>Female</td>\n",
       "      <td>Alabama</td>\n",
       "      <td>31</td>\n",
       "      <td>2/17/2019</td>\n",
       "      <td>3</td>\n",
       "      <td>married</td>\n",
       "      <td>40423</td>\n",
       "    </tr>\n",
       "  </tbody>\n",
       "</table>\n",
       "<p>5 rows × 34 columns</p>\n",
       "</div>"
      ],
      "text/plain": [
       "   order_id user_id  order_number  orders_day_of_week  order_time  \\\n",
       "0   2539329       1             1                   2           8   \n",
       "1   2539329       1             1                   2           8   \n",
       "2   2539329       1             1                   2           8   \n",
       "3   2539329       1             1                   2           8   \n",
       "4   2539329       1             1                   2           8   \n",
       "\n",
       "   days_since_prior_order  product_id  add_to_cart_order  reordered  \\\n",
       "0                     NaN         196                  1          0   \n",
       "1                     NaN       14084                  2          0   \n",
       "2                     NaN       12427                  3          0   \n",
       "3                     NaN       26088                  4          0   \n",
       "4                     NaN       26405                  5          0   \n",
       "\n",
       "                              product_name  ...  busiest_period_of_day_2  \\\n",
       "0                                     Soda  ...         average orders 2   \n",
       "1  Organic Unsweetened Vanilla Almond Milk  ...         average orders 2   \n",
       "2                      Original Beef Jerky  ...         average orders 2   \n",
       "3               Aged White Cheddar Popcorn  ...         average orders 2   \n",
       "4         XL Pick-A-Size Paper Towel Rolls  ...         average orders 2   \n",
       "\n",
       "   First Name  Surnam  Gender    State Age date_joined number_of_dependants  \\\n",
       "0       Linda  Nguyen  Female  Alabama  31   2/17/2019                    3   \n",
       "1       Linda  Nguyen  Female  Alabama  31   2/17/2019                    3   \n",
       "2       Linda  Nguyen  Female  Alabama  31   2/17/2019                    3   \n",
       "3       Linda  Nguyen  Female  Alabama  31   2/17/2019                    3   \n",
       "4       Linda  Nguyen  Female  Alabama  31   2/17/2019                    3   \n",
       "\n",
       "   fam_status income  \n",
       "0     married  40423  \n",
       "1     married  40423  \n",
       "2     married  40423  \n",
       "3     married  40423  \n",
       "4     married  40423  \n",
       "\n",
       "[5 rows x 34 columns]"
      ]
     },
     "execution_count": 7,
     "metadata": {},
     "output_type": "execute_result"
    }
   ],
   "source": [
    "df_opc_merged.head()"
   ]
  },
  {
   "cell_type": "markdown",
   "id": "52ddbacc-c861-4e6b-9e3c-3e1ef6c5ab87",
   "metadata": {},
   "source": [
    "Histogram"
   ]
  },
  {
   "cell_type": "code",
   "execution_count": 9,
   "id": "fb125ce8-4b93-4751-afc0-282aa2881826",
   "metadata": {},
   "outputs": [
    {
     "data": {
      "image/png": "[encoded data removed]",
      "text/plain": [
       "<Figure size 640x480 with 1 Axes>"
      ]
     },
     "metadata": {},
     "output_type": "display_data"
    }
   ],
   "source": [
    "# Creating a histogram of order_time\n",
    "Histrogram_order_times = df_opc_merged['order_time'].plot.hist(bins = 24)"
   ]
  },
  {
   "cell_type": "markdown",
   "id": "cabdb7b0-ec6a-44cf-9423-41445c1c485c",
   "metadata": {},
   "source": [
    "This histogram demonstrates that there are the most sales between 8am and 4pm."
   ]
  },
  {
   "cell_type": "markdown",
   "id": "a1bcd0c4-b7b9-4bbd-995d-61390482633b",
   "metadata": {},
   "source": [
    "Creating a bar chart"
   ]
  },
  {
   "cell_type": "code",
   "execution_count": 12,
   "id": "2b0d07fd-6d38-43ea-9380-1139a2f7ae76",
   "metadata": {
    "scrolled": true
   },
   "outputs": [
    {
     "data": {
      "image/png": "[encoded data removed]",
      "text/plain": [
       "<Figure size 640x480 with 1 Axes>"
      ]
     },
     "metadata": {},
     "output_type": "display_data"
    }
   ],
   "source": [
    "# Creating bar chart for loyalty_flag\n",
    "bar_loyalty_flag = df_opc_merged['loyalty_flag'].value_counts().plot.bar()"
   ]
  },
  {
   "cell_type": "markdown",
   "id": "e28aa80e-ad1e-4e08-ac80-789f937118e3",
   "metadata": {},
   "source": [
    "Creating a sample of the data to make line chart and scatterplot"
   ]
  },
  {
   "cell_type": "code",
   "execution_count": 14,
   "id": "29fee8b6-71ce-4622-9f01-1aa6e538fbe2",
   "metadata": {},
   "outputs": [],
   "source": [
    "# Creating Sample of Data\n",
    "np.random.seed(4)\n",
    "dev = np.random.rand(len(df_opc_merged)) <= 0.7"
   ]
  },
  {
   "cell_type": "code",
   "execution_count": 15,
   "id": "8595eab2-8369-4139-818f-51bee18594fe",
   "metadata": {},
   "outputs": [
    {
     "data": {
      "text/plain": [
       "array([False,  True, False, ...,  True,  True,  True])"
      ]
     },
     "execution_count": 15,
     "metadata": {},
     "output_type": "execute_result"
    }
   ],
   "source": [
    "dev"
   ]
  },
  {
   "cell_type": "code",
   "execution_count": 16,
   "id": "7967f02a-0b5d-45dd-bd27-86988459b8eb",
   "metadata": {},
   "outputs": [],
   "source": [
    "# Store 70%/30% in df big/small\n",
    "big = df_opc_merged[dev]\n",
    "small = df_opc_merged[~dev]"
   ]
  },
  {
   "cell_type": "code",
   "execution_count": 17,
   "id": "41a7e3ee-92dd-45fe-888d-9964e2c10b18",
   "metadata": {},
   "outputs": [
    {
     "data": {
      "text/plain": [
       "32404859"
      ]
     },
     "execution_count": 17,
     "metadata": {},
     "output_type": "execute_result"
    }
   ],
   "source": [
    "len(df_opc_merged)"
   ]
  },
  {
   "cell_type": "code",
   "execution_count": 18,
   "id": "1a2f8ffa-f43b-4129-adf5-4b2a833b6f91",
   "metadata": {},
   "outputs": [
    {
     "data": {
      "text/plain": [
       "32404859"
      ]
     },
     "execution_count": 18,
     "metadata": {},
     "output_type": "execute_result"
    }
   ],
   "source": [
    "len(big) + len(small)"
   ]
  },
  {
   "cell_type": "code",
   "execution_count": 19,
   "id": "7ff6fc6b-7ca0-4092-832b-f5d895d8ca8d",
   "metadata": {},
   "outputs": [],
   "source": [
    "df_opc_ness_col =small[['order_time', 'prices']]"
   ]
  },
  {
   "cell_type": "code",
   "execution_count": 20,
   "id": "5cfd00a9-303d-466b-bf77-4270f9297b16",
   "metadata": {},
   "outputs": [
    {
     "data": {
      "image/png": "[encoded data removed]",
      "text/plain": [
       "<Figure size 640x480 with 1 Axes>"
      ]
     },
     "metadata": {},
     "output_type": "display_data"
    }
   ],
   "source": [
    "# Line chart for order_time and prices\n",
    "line_price_ot = sns.lineplot(data = df_opc_ness_col, x = 'order_time', y = 'prices')"
   ]
  },
  {
   "cell_type": "code",
   "execution_count": 21,
   "id": "8fe877f5-8680-4462-8335-c7d1c6954b50",
   "metadata": {},
   "outputs": [],
   "source": [
    "df_opc_ness_col_2 =small[['number_of_dependants', 'Age']]"
   ]
  },
  {
   "cell_type": "code",
   "execution_count": null,
   "id": "f4b2f5af-7f5c-430b-80b2-85b7e841c3c0",
   "metadata": {},
   "outputs": [],
   "source": [
    "# Line chart for Age and number_of_dependants\n",
    "line_age_nod = sns.lineplot (data = df_opc_ness_col_2, x = 'Age', y = 'number_of_dependants')"
   ]
  },
  {
   "cell_type": "markdown",
   "id": "2da0487e-b1a3-4921-aa3f-c5cccdba2f5c",
   "metadata": {},
   "source": [
    "It doesn't tell me much except that there is no strong rlationship between age and number of dependants. It seems that around 60yoa people have both a lot but also vwery few dependants."
   ]
  },
  {
   "cell_type": "code",
   "execution_count": null,
   "id": "3abce257-1afb-4a8c-bebe-3f891dcc81b7",
   "metadata": {},
   "outputs": [],
   "source": [
    "df_opc_ness_col_3 =small[['income', 'Age']]"
   ]
  },
  {
   "cell_type": "code",
   "execution_count": null,
   "id": "ddc9dc51-4423-425b-adf6-8642587c0e2b",
   "metadata": {},
   "outputs": [],
   "source": [
    "# Scatterplot for Age and income\n",
    "scatter_age_income = sns.scatterplot (x = 'Age', y = 'income', data = df_opc_ness_col_3)"
   ]
  },
  {
   "cell_type": "markdown",
   "id": "6a9f866a-6e0d-4956-8c4d-d0f1e80351be",
   "metadata": {},
   "source": [
    "the scatterplot shows that income rises at 40 y.o.a.. before 40 y.o.a. there is no one with an income over 40 thousand. At 40 y.o.a. there are also much more people with an income over 20 thousand compared to before."
   ]
  },
  {
   "cell_type": "code",
   "execution_count": null,
   "id": "b2145580-867e-46fe-9272-aa2b7b288301",
   "metadata": {},
   "outputs": [],
   "source": [
    "# Export df\n",
    "df_opc_merged.to_pickle(os.path.join(path,'Prepared Data', 'opc_merged.pkl'))"
   ]
  },
  {
   "cell_type": "code",
   "execution_count": null,
   "id": "358926f3-bac7-4d7e-a984-16af068eaca6",
   "metadata": {},
   "outputs": [],
   "source": [
    "# Import path for figure export\n",
    "path_2 = r'/Users/hannahstrassmann/Desktop/Achievment four Project/04 Analysis'"
   ]
  },
  {
   "cell_type": "code",
   "execution_count": null,
   "id": "cf245e37-2c80-4f45-b89a-e5e2feba5f03",
   "metadata": {},
   "outputs": [],
   "source": [
    "Histrogram_order_times.figure.savefig (os.path.join(path_2, 'Visualisations', 'Histrogram_order_times.png'))"
   ]
  },
  {
   "cell_type": "code",
   "execution_count": null,
   "id": "36d4e483-2205-4e8e-9d84-3f009b2c1225",
   "metadata": {},
   "outputs": [],
   "source": [
    "bar_loyalty_flag.figure.savefig (os.path.join(path_2, 'Visualisations', 'bar_loyalty_flag.png'))"
   ]
  },
  {
   "cell_type": "code",
   "execution_count": null,
   "id": "3fde4376-c284-4603-b332-647bc9d1f361",
   "metadata": {},
   "outputs": [],
   "source": [
    "line_price_ot.figure.savefig (os.path.join(path_2, 'Visualisations', 'line_price_ot.png'))"
   ]
  },
  {
   "cell_type": "code",
   "execution_count": null,
   "id": "d5a6a9d7-b723-4920-8bfb-951126d38233",
   "metadata": {},
   "outputs": [],
   "source": [
    "line_age_nod.figure.savefig (os.path.join(path_2, 'Visualisations', 'line_age_nod.png'))"
   ]
  },
  {
   "cell_type": "code",
   "execution_count": null,
   "id": "03189f69-6a30-4dd8-aaad-301c4db7dc97",
   "metadata": {},
   "outputs": [],
   "source": [
    "scatter_age_income.figure.savefig (os.path.join(path_2, 'Visualisations', 'scatter_age_income.png'))"
   ]
  },
  {
   "cell_type": "code",
   "execution_count": null,
   "id": "c565c8dd-cf46-4e16-b152-8d56f229607f",
   "metadata": {},
   "outputs": [],
   "source": []
  }
 ],
 "metadata": {
  "kernelspec": {
   "display_name": "Python [conda env:base] *",
   "language": "python",
   "name": "conda-base-py"
  },
  "language_info": {
   "codemirror_mode": {
    "name": "ipython",
    "version": 3
   },
   "file_extension": ".py",
   "mimetype": "text/x-python",
   "name": "python",
   "nbconvert_exporter": "python",
   "pygments_lexer": "ipython3",
   "version": "3.12.7"
  }
 },
 "nbformat": 4,
 "nbformat_minor": 5
}
