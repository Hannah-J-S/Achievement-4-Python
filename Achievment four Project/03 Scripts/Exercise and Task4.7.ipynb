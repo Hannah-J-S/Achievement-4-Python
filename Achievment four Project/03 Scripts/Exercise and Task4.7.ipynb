{
 "cells": [
  {
   "cell_type": "code",
   "execution_count": 3,
   "id": "b1085f67-f60c-438e-bfc4-82b7b01b0514",
   "metadata": {},
   "outputs": [],
   "source": [
    "# Import Libraries\n",
    "import pandas as pd\n",
    "import numpy as np\n",
    "import os\n"
   ]
  },
  {
   "cell_type": "code",
   "execution_count": 161,
   "id": "b0f6f47e-d849-436f-83c4-2680b87fd40f",
   "metadata": {},
   "outputs": [],
   "source": [
    "path = r'/Users/hannahstrassmann/Desktop/Achievment four Project/two Data'"
   ]
  },
  {
   "cell_type": "code",
   "execution_count": 5,
   "id": "ff9038d5-fc11-44eb-bb69-96f470c7c51a",
   "metadata": {},
   "outputs": [],
   "source": [
    "# Importing df_ords_prods_merge\n",
    "df_ords_prods_merge = pd.read_pickle(os.path.join(path, 'Prepared Data', 'ords_prods_merge.pkl'))"
   ]
  },
  {
   "cell_type": "code",
   "execution_count": 6,
   "id": "ff9b09e1-b456-4120-a66b-e1aa87b13e5a",
   "metadata": {},
   "outputs": [],
   "source": [
    "# Creating subset of df_ords_prods_merge (1000000 rows)\n",
    "df = df_ords_prods_merge[:1000000]"
   ]
  },
  {
   "cell_type": "code",
   "execution_count": 7,
   "id": "6e94a9a4-18aa-4cf3-b13d-2c9a8d57efc1",
   "metadata": {},
   "outputs": [
    {
     "data": {
      "text/plain": [
       "(1000000, 14)"
      ]
     },
     "execution_count": 7,
     "metadata": {},
     "output_type": "execute_result"
    }
   ],
   "source": [
    "df.shape"
   ]
  },
  {
   "cell_type": "code",
   "execution_count": 8,
   "id": "cdd3b465-9759-4153-b8be-4a4a397a2cd8",
   "metadata": {},
   "outputs": [
    {
     "data": {
      "text/html": [
       "<div>\n",
       "<style scoped>\n",
       "    .dataframe tbody tr th:only-of-type {\n",
       "        vertical-align: middle;\n",
       "    }\n",
       "\n",
       "    .dataframe tbody tr th {\n",
       "        vertical-align: top;\n",
       "    }\n",
       "\n",
       "    .dataframe thead th {\n",
       "        text-align: right;\n",
       "    }\n",
       "</style>\n",
       "<table border=\"1\" class=\"dataframe\">\n",
       "  <thead>\n",
       "    <tr style=\"text-align: right;\">\n",
       "      <th></th>\n",
       "      <th>order_id</th>\n",
       "      <th>user_id</th>\n",
       "      <th>order_number</th>\n",
       "      <th>orders_day_of_week</th>\n",
       "      <th>order_time</th>\n",
       "      <th>days_since_prior_order</th>\n",
       "      <th>product_id</th>\n",
       "      <th>add_to_cart_order</th>\n",
       "      <th>reordered</th>\n",
       "      <th>product_name</th>\n",
       "      <th>aisle_id</th>\n",
       "      <th>department_id</th>\n",
       "      <th>prices</th>\n",
       "      <th>_merge</th>\n",
       "    </tr>\n",
       "  </thead>\n",
       "  <tbody>\n",
       "    <tr>\n",
       "      <th>0</th>\n",
       "      <td>2539329</td>\n",
       "      <td>1</td>\n",
       "      <td>1</td>\n",
       "      <td>2</td>\n",
       "      <td>8</td>\n",
       "      <td>NaN</td>\n",
       "      <td>196</td>\n",
       "      <td>1</td>\n",
       "      <td>0</td>\n",
       "      <td>Soda</td>\n",
       "      <td>77</td>\n",
       "      <td>7</td>\n",
       "      <td>9.0</td>\n",
       "      <td>both</td>\n",
       "    </tr>\n",
       "    <tr>\n",
       "      <th>1</th>\n",
       "      <td>2539329</td>\n",
       "      <td>1</td>\n",
       "      <td>1</td>\n",
       "      <td>2</td>\n",
       "      <td>8</td>\n",
       "      <td>NaN</td>\n",
       "      <td>14084</td>\n",
       "      <td>2</td>\n",
       "      <td>0</td>\n",
       "      <td>Organic Unsweetened Vanilla Almond Milk</td>\n",
       "      <td>91</td>\n",
       "      <td>16</td>\n",
       "      <td>12.5</td>\n",
       "      <td>both</td>\n",
       "    </tr>\n",
       "    <tr>\n",
       "      <th>2</th>\n",
       "      <td>2539329</td>\n",
       "      <td>1</td>\n",
       "      <td>1</td>\n",
       "      <td>2</td>\n",
       "      <td>8</td>\n",
       "      <td>NaN</td>\n",
       "      <td>12427</td>\n",
       "      <td>3</td>\n",
       "      <td>0</td>\n",
       "      <td>Original Beef Jerky</td>\n",
       "      <td>23</td>\n",
       "      <td>19</td>\n",
       "      <td>4.4</td>\n",
       "      <td>both</td>\n",
       "    </tr>\n",
       "    <tr>\n",
       "      <th>3</th>\n",
       "      <td>2539329</td>\n",
       "      <td>1</td>\n",
       "      <td>1</td>\n",
       "      <td>2</td>\n",
       "      <td>8</td>\n",
       "      <td>NaN</td>\n",
       "      <td>26088</td>\n",
       "      <td>4</td>\n",
       "      <td>0</td>\n",
       "      <td>Aged White Cheddar Popcorn</td>\n",
       "      <td>23</td>\n",
       "      <td>19</td>\n",
       "      <td>4.7</td>\n",
       "      <td>both</td>\n",
       "    </tr>\n",
       "    <tr>\n",
       "      <th>4</th>\n",
       "      <td>2539329</td>\n",
       "      <td>1</td>\n",
       "      <td>1</td>\n",
       "      <td>2</td>\n",
       "      <td>8</td>\n",
       "      <td>NaN</td>\n",
       "      <td>26405</td>\n",
       "      <td>5</td>\n",
       "      <td>0</td>\n",
       "      <td>XL Pick-A-Size Paper Towel Rolls</td>\n",
       "      <td>54</td>\n",
       "      <td>17</td>\n",
       "      <td>1.0</td>\n",
       "      <td>both</td>\n",
       "    </tr>\n",
       "    <tr>\n",
       "      <th>5</th>\n",
       "      <td>2398795</td>\n",
       "      <td>1</td>\n",
       "      <td>2</td>\n",
       "      <td>3</td>\n",
       "      <td>7</td>\n",
       "      <td>15.0</td>\n",
       "      <td>196</td>\n",
       "      <td>1</td>\n",
       "      <td>1</td>\n",
       "      <td>Soda</td>\n",
       "      <td>77</td>\n",
       "      <td>7</td>\n",
       "      <td>9.0</td>\n",
       "      <td>both</td>\n",
       "    </tr>\n",
       "    <tr>\n",
       "      <th>6</th>\n",
       "      <td>2398795</td>\n",
       "      <td>1</td>\n",
       "      <td>2</td>\n",
       "      <td>3</td>\n",
       "      <td>7</td>\n",
       "      <td>15.0</td>\n",
       "      <td>10258</td>\n",
       "      <td>2</td>\n",
       "      <td>0</td>\n",
       "      <td>Pistachios</td>\n",
       "      <td>117</td>\n",
       "      <td>19</td>\n",
       "      <td>3.0</td>\n",
       "      <td>both</td>\n",
       "    </tr>\n",
       "    <tr>\n",
       "      <th>7</th>\n",
       "      <td>2398795</td>\n",
       "      <td>1</td>\n",
       "      <td>2</td>\n",
       "      <td>3</td>\n",
       "      <td>7</td>\n",
       "      <td>15.0</td>\n",
       "      <td>12427</td>\n",
       "      <td>3</td>\n",
       "      <td>1</td>\n",
       "      <td>Original Beef Jerky</td>\n",
       "      <td>23</td>\n",
       "      <td>19</td>\n",
       "      <td>4.4</td>\n",
       "      <td>both</td>\n",
       "    </tr>\n",
       "    <tr>\n",
       "      <th>8</th>\n",
       "      <td>2398795</td>\n",
       "      <td>1</td>\n",
       "      <td>2</td>\n",
       "      <td>3</td>\n",
       "      <td>7</td>\n",
       "      <td>15.0</td>\n",
       "      <td>13176</td>\n",
       "      <td>4</td>\n",
       "      <td>0</td>\n",
       "      <td>Bag of Organic Bananas</td>\n",
       "      <td>24</td>\n",
       "      <td>4</td>\n",
       "      <td>10.3</td>\n",
       "      <td>both</td>\n",
       "    </tr>\n",
       "    <tr>\n",
       "      <th>9</th>\n",
       "      <td>2398795</td>\n",
       "      <td>1</td>\n",
       "      <td>2</td>\n",
       "      <td>3</td>\n",
       "      <td>7</td>\n",
       "      <td>15.0</td>\n",
       "      <td>26088</td>\n",
       "      <td>5</td>\n",
       "      <td>1</td>\n",
       "      <td>Aged White Cheddar Popcorn</td>\n",
       "      <td>23</td>\n",
       "      <td>19</td>\n",
       "      <td>4.7</td>\n",
       "      <td>both</td>\n",
       "    </tr>\n",
       "  </tbody>\n",
       "</table>\n",
       "</div>"
      ],
      "text/plain": [
       "   order_id  user_id  order_number  orders_day_of_week  order_time  \\\n",
       "0   2539329        1             1                   2           8   \n",
       "1   2539329        1             1                   2           8   \n",
       "2   2539329        1             1                   2           8   \n",
       "3   2539329        1             1                   2           8   \n",
       "4   2539329        1             1                   2           8   \n",
       "5   2398795        1             2                   3           7   \n",
       "6   2398795        1             2                   3           7   \n",
       "7   2398795        1             2                   3           7   \n",
       "8   2398795        1             2                   3           7   \n",
       "9   2398795        1             2                   3           7   \n",
       "\n",
       "   days_since_prior_order  product_id  add_to_cart_order  reordered  \\\n",
       "0                     NaN         196                  1          0   \n",
       "1                     NaN       14084                  2          0   \n",
       "2                     NaN       12427                  3          0   \n",
       "3                     NaN       26088                  4          0   \n",
       "4                     NaN       26405                  5          0   \n",
       "5                    15.0         196                  1          1   \n",
       "6                    15.0       10258                  2          0   \n",
       "7                    15.0       12427                  3          1   \n",
       "8                    15.0       13176                  4          0   \n",
       "9                    15.0       26088                  5          1   \n",
       "\n",
       "                              product_name  aisle_id  department_id  prices  \\\n",
       "0                                     Soda        77              7     9.0   \n",
       "1  Organic Unsweetened Vanilla Almond Milk        91             16    12.5   \n",
       "2                      Original Beef Jerky        23             19     4.4   \n",
       "3               Aged White Cheddar Popcorn        23             19     4.7   \n",
       "4         XL Pick-A-Size Paper Towel Rolls        54             17     1.0   \n",
       "5                                     Soda        77              7     9.0   \n",
       "6                               Pistachios       117             19     3.0   \n",
       "7                      Original Beef Jerky        23             19     4.4   \n",
       "8                   Bag of Organic Bananas        24              4    10.3   \n",
       "9               Aged White Cheddar Popcorn        23             19     4.7   \n",
       "\n",
       "  _merge  \n",
       "0   both  \n",
       "1   both  \n",
       "2   both  \n",
       "3   both  \n",
       "4   both  \n",
       "5   both  \n",
       "6   both  \n",
       "7   both  \n",
       "8   both  \n",
       "9   both  "
      ]
     },
     "execution_count": 8,
     "metadata": {},
     "output_type": "execute_result"
    }
   ],
   "source": [
    "df.head(10)\n",
    "                        "
   ]
  },
  {
   "cell_type": "code",
   "execution_count": 9,
   "id": "69cf560d-fe73-4ad1-a04d-f8bc85e16c5d",
   "metadata": {},
   "outputs": [],
   "source": [
    "# Creating user-defined function\n",
    "def price_label(row):\n",
    "    \n",
    "    if row['prices'] <= 5:\n",
    "        return 'low-range product'\n",
    "    elif (row['prices'] > 5) and (row ['prices'] <= 15):\n",
    "        return 'mid-range roduct'\n",
    "    elif row ['prices'] > 15:\n",
    "        return 'high-range product'\n",
    "    else: return 'not enough data'\n",
    "    \n",
    "    "
   ]
  },
  {
   "cell_type": "code",
   "execution_count": 10,
   "id": "67e53541-f3a6-4fa4-b6b9-ed9b55d55599",
   "metadata": {},
   "outputs": [
    {
     "name": "stderr",
     "output_type": "stream",
     "text": [
      "/var/folders/pb/ntsf5rfn1rs9pmdn1yzhjxnw0000gn/T/ipykernel_28219/3720154099.py:2: SettingWithCopyWarning: \n",
      "A value is trying to be set on a copy of a slice from a DataFrame.\n",
      "Try using .loc[row_indexer,col_indexer] = value instead\n",
      "\n",
      "See the caveats in the documentation: https://pandas.pydata.org/pandas-docs/stable/user_guide/indexing.html#returning-a-view-versus-a-copy\n",
      "  df['price_range'] = df.apply(price_label, axis = 1)\n"
     ]
    }
   ],
   "source": [
    "# Creating price_range on subset of df_ords_prods_merge using user-defined function\n",
    "df['price_range'] = df.apply(price_label, axis = 1)"
   ]
  },
  {
   "cell_type": "code",
   "execution_count": 11,
   "id": "dec44b72-4950-4148-ab3e-4805d72888d9",
   "metadata": {},
   "outputs": [
    {
     "data": {
      "text/plain": [
       "price_range\n",
       "mid-range roduct      673183\n",
       "low-range product     314392\n",
       "high-range product     12425\n",
       "Name: count, dtype: int64"
      ]
     },
     "execution_count": 11,
     "metadata": {},
     "output_type": "execute_result"
    }
   ],
   "source": [
    "df['price_range'].value_counts (dropna = False)\n"
   ]
  },
  {
   "cell_type": "code",
   "execution_count": 12,
   "id": "6049453c-1418-4de7-aa54-002f7952c027",
   "metadata": {},
   "outputs": [
    {
     "data": {
      "text/plain": [
       "99999.0"
      ]
     },
     "execution_count": 12,
     "metadata": {},
     "output_type": "execute_result"
    }
   ],
   "source": [
    "df['prices'].max()"
   ]
  },
  {
   "cell_type": "code",
   "execution_count": 13,
   "id": "f518d18e-fd91-407b-8547-df8d2688f8e5",
   "metadata": {},
   "outputs": [
    {
     "data": {
      "text/plain": [
       "999995     mid-range roduct\n",
       "999996     mid-range roduct\n",
       "999997    low-range product\n",
       "999998     mid-range roduct\n",
       "999999    low-range product\n",
       "Name: price_range, dtype: object"
      ]
     },
     "execution_count": 13,
     "metadata": {},
     "output_type": "execute_result"
    }
   ],
   "source": [
    "df['price_range'].tail()"
   ]
  },
  {
   "cell_type": "code",
   "execution_count": 14,
   "id": "2faffd5b-cfd0-4146-967f-6c23baaba3de",
   "metadata": {},
   "outputs": [
    {
     "data": {
      "text/plain": [
       "(1000000,)"
      ]
     },
     "execution_count": 14,
     "metadata": {},
     "output_type": "execute_result"
    }
   ],
   "source": [
    "df['price_range'].shape"
   ]
  },
  {
   "cell_type": "code",
   "execution_count": 15,
   "id": "bc9db9c6-8eb2-49e9-8c83-8a366e32d623",
   "metadata": {},
   "outputs": [
    {
     "name": "stderr",
     "output_type": "stream",
     "text": [
      "/var/folders/pb/ntsf5rfn1rs9pmdn1yzhjxnw0000gn/T/ipykernel_28219/3672053582.py:2: SettingWithCopyWarning: \n",
      "A value is trying to be set on a copy of a slice from a DataFrame.\n",
      "Try using .loc[row_indexer,col_indexer] = value instead\n",
      "\n",
      "See the caveats in the documentation: https://pandas.pydata.org/pandas-docs/stable/user_guide/indexing.html#returning-a-view-versus-a-copy\n",
      "  df.loc[df['prices']>15, 'price_range_loc'] = 'high-range product'\n"
     ]
    }
   ],
   "source": [
    "# Creating price_range_loc on subset of df_ords_prods_merge\n",
    "df.loc[df['prices']>15, 'price_range_loc'] = 'high-range product'\n"
   ]
  },
  {
   "cell_type": "code",
   "execution_count": 16,
   "id": "4cd63b0d-9721-40f0-a413-6a894fe3ece1",
   "metadata": {},
   "outputs": [],
   "source": [
    "df.loc[(df['prices'] <=15) & (df['prices'] > 5), 'price_range_loc'] = 'mid-range product'"
   ]
  },
  {
   "cell_type": "code",
   "execution_count": 17,
   "id": "0a7e977b-3449-43e3-9a4e-c3f098f939b9",
   "metadata": {},
   "outputs": [],
   "source": [
    "df.loc[df['prices'] <=5, 'price_range_loc'] = 'low-range product'"
   ]
  },
  {
   "cell_type": "code",
   "execution_count": 18,
   "id": "2ce76ccf-aa26-4adf-8fce-49c1c14c03c9",
   "metadata": {},
   "outputs": [
    {
     "data": {
      "text/plain": [
       "price_range_loc\n",
       "mid-range product     673183\n",
       "low-range product     314392\n",
       "high-range product     12425\n",
       "Name: count, dtype: int64"
      ]
     },
     "execution_count": 18,
     "metadata": {},
     "output_type": "execute_result"
    }
   ],
   "source": [
    "df['price_range_loc'].value_counts (dropna = False)"
   ]
  },
  {
   "cell_type": "code",
   "execution_count": 19,
   "id": "75938a11-3cb6-4836-afe8-95cf6df50188",
   "metadata": {},
   "outputs": [],
   "source": [
    "# Creating Price_range_loc on df_ords_prods_merge\n",
    "df_ords_prods_merge.loc[df_ords_prods_merge['prices']>15, 'price_range_loc'] = 'high-range product'\n"
   ]
  },
  {
   "cell_type": "code",
   "execution_count": 20,
   "id": "0066f29f-d123-4051-a176-b977caac1c7a",
   "metadata": {},
   "outputs": [],
   "source": [
    "df_ords_prods_merge.loc[(df_ords_prods_merge['prices'] <=15) & (df_ords_prods_merge['prices'] > 5), 'price_range_loc'] = 'mid-range product'"
   ]
  },
  {
   "cell_type": "code",
   "execution_count": 21,
   "id": "3a6c329b-8c61-48fa-80c9-040636f61f15",
   "metadata": {},
   "outputs": [],
   "source": [
    "df_ords_prods_merge.loc[df_ords_prods_merge['prices'] <=5, 'price_range_loc'] = 'low-range product'\n"
   ]
  },
  {
   "cell_type": "code",
   "execution_count": 22,
   "id": "858a6378-cfbc-4a56-96c4-c31cb66d3dd1",
   "metadata": {},
   "outputs": [
    {
     "data": {
      "text/plain": [
       "price_range_loc\n",
       "mid-range product     21860860\n",
       "low-range product     10126321\n",
       "high-range product      417678\n",
       "Name: count, dtype: int64"
      ]
     },
     "execution_count": 22,
     "metadata": {},
     "output_type": "execute_result"
    }
   ],
   "source": [
    "df_ords_prods_merge['price_range_loc'].value_counts (dropna = False)"
   ]
  },
  {
   "cell_type": "code",
   "execution_count": 23,
   "id": "880165da-a379-4c44-9fdd-cc918c832cad",
   "metadata": {},
   "outputs": [
    {
     "name": "stdout",
     "output_type": "stream",
     "text": [
      "My age is 30\n",
      "My age is 31\n",
      "My age is 32\n",
      "My age is 33\n",
      "My age is 34\n",
      "My age is 35\n",
      "My age is 36\n",
      "My age is 37\n",
      "My age is 38\n",
      "My age is 39\n",
      "My age is 40\n",
      "My age is 41\n",
      "My age is 42\n",
      "My age is 43\n",
      "My age is 44\n"
     ]
    }
   ],
   "source": [
    "for x in range (30, 45):\n",
    "    print(\"My age is %d\" % (x))"
   ]
  },
  {
   "cell_type": "code",
   "execution_count": 24,
   "id": "310def75-380b-462e-8e6f-70ba4eba3d29",
   "metadata": {},
   "outputs": [
    {
     "data": {
      "text/plain": [
       "orders_day_of_week\n",
       "0    6204182\n",
       "1    5660230\n",
       "6    4496490\n",
       "2    4213830\n",
       "5    4205791\n",
       "3    3840534\n",
       "4    3783802\n",
       "Name: count, dtype: int64"
      ]
     },
     "execution_count": 24,
     "metadata": {},
     "output_type": "execute_result"
    }
   ],
   "source": [
    "df_ords_prods_merge['orders_day_of_week'].value_counts (dropna = False)"
   ]
  },
  {
   "cell_type": "code",
   "execution_count": 25,
   "id": "3df53ec8-6f4e-4b8a-bb2c-b0de84867f4c",
   "metadata": {},
   "outputs": [],
   "source": [
    "# Creating column 'busiest day'\n",
    "result = []\n",
    "for value in df_ords_prods_merge[\"orders_day_of_week\"]: \n",
    "    if value ==0:\n",
    "        result.append(\"busiest day\")\n",
    "    elif value ==4:\n",
    "        result.append(\"least busy\")\n",
    "    else:\n",
    "        result.append(\"regular busy\")"
   ]
  },
  {
   "cell_type": "code",
   "execution_count": 26,
   "id": "f27904c4-4987-43fa-b8de-b934eae9732a",
   "metadata": {},
   "outputs": [
    {
     "data": {
      "text/html": [
       "<div>\n",
       "<style scoped>\n",
       "    .dataframe tbody tr th:only-of-type {\n",
       "        vertical-align: middle;\n",
       "    }\n",
       "\n",
       "    .dataframe tbody tr th {\n",
       "        vertical-align: top;\n",
       "    }\n",
       "\n",
       "    .dataframe thead th {\n",
       "        text-align: right;\n",
       "    }\n",
       "</style>\n",
       "<table border=\"1\" class=\"dataframe\">\n",
       "  <thead>\n",
       "    <tr style=\"text-align: right;\">\n",
       "      <th></th>\n",
       "      <th>order_id</th>\n",
       "      <th>user_id</th>\n",
       "      <th>order_number</th>\n",
       "      <th>orders_day_of_week</th>\n",
       "      <th>order_time</th>\n",
       "      <th>days_since_prior_order</th>\n",
       "      <th>product_id</th>\n",
       "      <th>add_to_cart_order</th>\n",
       "      <th>reordered</th>\n",
       "      <th>product_name</th>\n",
       "      <th>aisle_id</th>\n",
       "      <th>department_id</th>\n",
       "      <th>prices</th>\n",
       "      <th>_merge</th>\n",
       "      <th>price_range_loc</th>\n",
       "    </tr>\n",
       "  </thead>\n",
       "  <tbody>\n",
       "    <tr>\n",
       "      <th>0</th>\n",
       "      <td>2539329</td>\n",
       "      <td>1</td>\n",
       "      <td>1</td>\n",
       "      <td>2</td>\n",
       "      <td>8</td>\n",
       "      <td>NaN</td>\n",
       "      <td>196</td>\n",
       "      <td>1</td>\n",
       "      <td>0</td>\n",
       "      <td>Soda</td>\n",
       "      <td>77</td>\n",
       "      <td>7</td>\n",
       "      <td>9.0</td>\n",
       "      <td>both</td>\n",
       "      <td>mid-range product</td>\n",
       "    </tr>\n",
       "    <tr>\n",
       "      <th>1</th>\n",
       "      <td>2539329</td>\n",
       "      <td>1</td>\n",
       "      <td>1</td>\n",
       "      <td>2</td>\n",
       "      <td>8</td>\n",
       "      <td>NaN</td>\n",
       "      <td>14084</td>\n",
       "      <td>2</td>\n",
       "      <td>0</td>\n",
       "      <td>Organic Unsweetened Vanilla Almond Milk</td>\n",
       "      <td>91</td>\n",
       "      <td>16</td>\n",
       "      <td>12.5</td>\n",
       "      <td>both</td>\n",
       "      <td>mid-range product</td>\n",
       "    </tr>\n",
       "    <tr>\n",
       "      <th>2</th>\n",
       "      <td>2539329</td>\n",
       "      <td>1</td>\n",
       "      <td>1</td>\n",
       "      <td>2</td>\n",
       "      <td>8</td>\n",
       "      <td>NaN</td>\n",
       "      <td>12427</td>\n",
       "      <td>3</td>\n",
       "      <td>0</td>\n",
       "      <td>Original Beef Jerky</td>\n",
       "      <td>23</td>\n",
       "      <td>19</td>\n",
       "      <td>4.4</td>\n",
       "      <td>both</td>\n",
       "      <td>low-range product</td>\n",
       "    </tr>\n",
       "    <tr>\n",
       "      <th>3</th>\n",
       "      <td>2539329</td>\n",
       "      <td>1</td>\n",
       "      <td>1</td>\n",
       "      <td>2</td>\n",
       "      <td>8</td>\n",
       "      <td>NaN</td>\n",
       "      <td>26088</td>\n",
       "      <td>4</td>\n",
       "      <td>0</td>\n",
       "      <td>Aged White Cheddar Popcorn</td>\n",
       "      <td>23</td>\n",
       "      <td>19</td>\n",
       "      <td>4.7</td>\n",
       "      <td>both</td>\n",
       "      <td>low-range product</td>\n",
       "    </tr>\n",
       "    <tr>\n",
       "      <th>4</th>\n",
       "      <td>2539329</td>\n",
       "      <td>1</td>\n",
       "      <td>1</td>\n",
       "      <td>2</td>\n",
       "      <td>8</td>\n",
       "      <td>NaN</td>\n",
       "      <td>26405</td>\n",
       "      <td>5</td>\n",
       "      <td>0</td>\n",
       "      <td>XL Pick-A-Size Paper Towel Rolls</td>\n",
       "      <td>54</td>\n",
       "      <td>17</td>\n",
       "      <td>1.0</td>\n",
       "      <td>both</td>\n",
       "      <td>low-range product</td>\n",
       "    </tr>\n",
       "  </tbody>\n",
       "</table>\n",
       "</div>"
      ],
      "text/plain": [
       "   order_id  user_id  order_number  orders_day_of_week  order_time  \\\n",
       "0   2539329        1             1                   2           8   \n",
       "1   2539329        1             1                   2           8   \n",
       "2   2539329        1             1                   2           8   \n",
       "3   2539329        1             1                   2           8   \n",
       "4   2539329        1             1                   2           8   \n",
       "\n",
       "   days_since_prior_order  product_id  add_to_cart_order  reordered  \\\n",
       "0                     NaN         196                  1          0   \n",
       "1                     NaN       14084                  2          0   \n",
       "2                     NaN       12427                  3          0   \n",
       "3                     NaN       26088                  4          0   \n",
       "4                     NaN       26405                  5          0   \n",
       "\n",
       "                              product_name  aisle_id  department_id  prices  \\\n",
       "0                                     Soda        77              7     9.0   \n",
       "1  Organic Unsweetened Vanilla Almond Milk        91             16    12.5   \n",
       "2                      Original Beef Jerky        23             19     4.4   \n",
       "3               Aged White Cheddar Popcorn        23             19     4.7   \n",
       "4         XL Pick-A-Size Paper Towel Rolls        54             17     1.0   \n",
       "\n",
       "  _merge    price_range_loc  \n",
       "0   both  mid-range product  \n",
       "1   both  mid-range product  \n",
       "2   both  low-range product  \n",
       "3   both  low-range product  \n",
       "4   both  low-range product  "
      ]
     },
     "execution_count": 26,
     "metadata": {},
     "output_type": "execute_result"
    }
   ],
   "source": [
    "df_ords_prods_merge.head()"
   ]
  },
  {
   "cell_type": "code",
   "execution_count": 3,
   "id": "4e1035d5-719a-4d4e-9b2d-76e8505cd9ee",
   "metadata": {},
   "outputs": [
    {
     "ename": "NameError",
     "evalue": "name 'result' is not defined",
     "output_type": "error",
     "traceback": [
      "\u001b[0;31m---------------------------------------------------------------------------\u001b[0m",
      "\u001b[0;31mNameError\u001b[0m                                 Traceback (most recent call last)",
      "Cell \u001b[0;32mIn[3], line 1\u001b[0m\n\u001b[0;32m----> 1\u001b[0m result\n",
      "\u001b[0;31mNameError\u001b[0m: name 'result' is not defined"
     ]
    }
   ],
   "source": [
    "result"
   ]
  },
  {
   "cell_type": "code",
   "execution_count": 28,
   "id": "5a13d331-f6fe-4626-9f22-f099e44d851b",
   "metadata": {},
   "outputs": [],
   "source": [
    "df_ords_prods_merge['busiest day'] = result"
   ]
  },
  {
   "cell_type": "code",
   "execution_count": 29,
   "id": "142abb3d-421f-44ea-a99f-7564e22ec26c",
   "metadata": {},
   "outputs": [
    {
     "data": {
      "text/plain": [
       "busiest day\n",
       "regular busy    22416875\n",
       "busiest day      6204182\n",
       "least busy       3783802\n",
       "Name: count, dtype: int64"
      ]
     },
     "execution_count": 29,
     "metadata": {},
     "output_type": "execute_result"
    }
   ],
   "source": [
    "df_ords_prods_merge['busiest day']. value_counts (dropna = False)"
   ]
  },
  {
   "cell_type": "markdown",
   "id": "eb408433-10f7-40b7-b190-1b57514a0076",
   "metadata": {},
   "source": [
    "# Task 4.7"
   ]
  },
  {
   "cell_type": "markdown",
   "id": "1860c526-cbe8-407c-8d90-f2899811e1dd",
   "metadata": {},
   "source": [
    "Creating busiest days"
   ]
  },
  {
   "cell_type": "code",
   "execution_count": 142,
   "id": "a53939f6-29cc-4964-895e-31e468014fb7",
   "metadata": {},
   "outputs": [],
   "source": [
    "df_ords_prods_merge.loc[(df_ords_prods_merge['orders_day_of_week']).isin ([1,0]), 'busiest_days_loc'] = 'busiest days'\n",
    "df_ords_prods_merge.loc[(df_ords_prods_merge['orders_day_of_week']).isin ([3,4]), 'busiest_days_loc'] = 'least busiest days'\n",
    "df_ords_prods_merge.loc[(df_ords_prods_merge['orders_day_of_week']).isin ([2,5,6]),'busiest_days_loc'] = 'regular busy days'"
   ]
  },
  {
   "cell_type": "code",
   "execution_count": 108,
   "id": "604bca0e-35ed-4d86-a113-e2cdb65b08f3",
   "metadata": {},
   "outputs": [
    {
     "data": {
      "text/html": [
       "<div>\n",
       "<style scoped>\n",
       "    .dataframe tbody tr th:only-of-type {\n",
       "        vertical-align: middle;\n",
       "    }\n",
       "\n",
       "    .dataframe tbody tr th {\n",
       "        vertical-align: top;\n",
       "    }\n",
       "\n",
       "    .dataframe thead th {\n",
       "        text-align: right;\n",
       "    }\n",
       "</style>\n",
       "<table border=\"1\" class=\"dataframe\">\n",
       "  <thead>\n",
       "    <tr style=\"text-align: right;\">\n",
       "      <th></th>\n",
       "      <th>order_id</th>\n",
       "      <th>user_id</th>\n",
       "      <th>order_number</th>\n",
       "      <th>orders_day_of_week</th>\n",
       "      <th>order_time</th>\n",
       "      <th>days_since_prior_order</th>\n",
       "      <th>product_id</th>\n",
       "      <th>add_to_cart_order</th>\n",
       "      <th>reordered</th>\n",
       "      <th>product_name</th>\n",
       "      <th>aisle_id</th>\n",
       "      <th>department_id</th>\n",
       "      <th>prices</th>\n",
       "      <th>_merge</th>\n",
       "      <th>price_range_loc</th>\n",
       "      <th>busiest day</th>\n",
       "      <th>busiest_days_loc</th>\n",
       "      <th>busiest_period_of_day</th>\n",
       "    </tr>\n",
       "  </thead>\n",
       "  <tbody>\n",
       "    <tr>\n",
       "      <th>0</th>\n",
       "      <td>2539329</td>\n",
       "      <td>1</td>\n",
       "      <td>1</td>\n",
       "      <td>2</td>\n",
       "      <td>8</td>\n",
       "      <td>NaN</td>\n",
       "      <td>196</td>\n",
       "      <td>1</td>\n",
       "      <td>0</td>\n",
       "      <td>Soda</td>\n",
       "      <td>77</td>\n",
       "      <td>7</td>\n",
       "      <td>9.0</td>\n",
       "      <td>both</td>\n",
       "      <td>mid-range product</td>\n",
       "      <td>regular busy</td>\n",
       "      <td>regular busy</td>\n",
       "      <td>average orders</td>\n",
       "    </tr>\n",
       "    <tr>\n",
       "      <th>1</th>\n",
       "      <td>2539329</td>\n",
       "      <td>1</td>\n",
       "      <td>1</td>\n",
       "      <td>2</td>\n",
       "      <td>8</td>\n",
       "      <td>NaN</td>\n",
       "      <td>14084</td>\n",
       "      <td>2</td>\n",
       "      <td>0</td>\n",
       "      <td>Organic Unsweetened Vanilla Almond Milk</td>\n",
       "      <td>91</td>\n",
       "      <td>16</td>\n",
       "      <td>12.5</td>\n",
       "      <td>both</td>\n",
       "      <td>mid-range product</td>\n",
       "      <td>regular busy</td>\n",
       "      <td>regular busy</td>\n",
       "      <td>average orders</td>\n",
       "    </tr>\n",
       "    <tr>\n",
       "      <th>2</th>\n",
       "      <td>2539329</td>\n",
       "      <td>1</td>\n",
       "      <td>1</td>\n",
       "      <td>2</td>\n",
       "      <td>8</td>\n",
       "      <td>NaN</td>\n",
       "      <td>12427</td>\n",
       "      <td>3</td>\n",
       "      <td>0</td>\n",
       "      <td>Original Beef Jerky</td>\n",
       "      <td>23</td>\n",
       "      <td>19</td>\n",
       "      <td>4.4</td>\n",
       "      <td>both</td>\n",
       "      <td>low-range product</td>\n",
       "      <td>regular busy</td>\n",
       "      <td>regular busy</td>\n",
       "      <td>average orders</td>\n",
       "    </tr>\n",
       "    <tr>\n",
       "      <th>3</th>\n",
       "      <td>2539329</td>\n",
       "      <td>1</td>\n",
       "      <td>1</td>\n",
       "      <td>2</td>\n",
       "      <td>8</td>\n",
       "      <td>NaN</td>\n",
       "      <td>26088</td>\n",
       "      <td>4</td>\n",
       "      <td>0</td>\n",
       "      <td>Aged White Cheddar Popcorn</td>\n",
       "      <td>23</td>\n",
       "      <td>19</td>\n",
       "      <td>4.7</td>\n",
       "      <td>both</td>\n",
       "      <td>low-range product</td>\n",
       "      <td>regular busy</td>\n",
       "      <td>regular busy</td>\n",
       "      <td>average orders</td>\n",
       "    </tr>\n",
       "    <tr>\n",
       "      <th>4</th>\n",
       "      <td>2539329</td>\n",
       "      <td>1</td>\n",
       "      <td>1</td>\n",
       "      <td>2</td>\n",
       "      <td>8</td>\n",
       "      <td>NaN</td>\n",
       "      <td>26405</td>\n",
       "      <td>5</td>\n",
       "      <td>0</td>\n",
       "      <td>XL Pick-A-Size Paper Towel Rolls</td>\n",
       "      <td>54</td>\n",
       "      <td>17</td>\n",
       "      <td>1.0</td>\n",
       "      <td>both</td>\n",
       "      <td>low-range product</td>\n",
       "      <td>regular busy</td>\n",
       "      <td>regular busy</td>\n",
       "      <td>average orders</td>\n",
       "    </tr>\n",
       "  </tbody>\n",
       "</table>\n",
       "</div>"
      ],
      "text/plain": [
       "   order_id  user_id  order_number  orders_day_of_week  order_time  \\\n",
       "0   2539329        1             1                   2           8   \n",
       "1   2539329        1             1                   2           8   \n",
       "2   2539329        1             1                   2           8   \n",
       "3   2539329        1             1                   2           8   \n",
       "4   2539329        1             1                   2           8   \n",
       "\n",
       "   days_since_prior_order  product_id  add_to_cart_order  reordered  \\\n",
       "0                     NaN         196                  1          0   \n",
       "1                     NaN       14084                  2          0   \n",
       "2                     NaN       12427                  3          0   \n",
       "3                     NaN       26088                  4          0   \n",
       "4                     NaN       26405                  5          0   \n",
       "\n",
       "                              product_name  aisle_id  department_id  prices  \\\n",
       "0                                     Soda        77              7     9.0   \n",
       "1  Organic Unsweetened Vanilla Almond Milk        91             16    12.5   \n",
       "2                      Original Beef Jerky        23             19     4.4   \n",
       "3               Aged White Cheddar Popcorn        23             19     4.7   \n",
       "4         XL Pick-A-Size Paper Towel Rolls        54             17     1.0   \n",
       "\n",
       "  _merge    price_range_loc   busiest day busiest_days_loc  \\\n",
       "0   both  mid-range product  regular busy     regular busy   \n",
       "1   both  mid-range product  regular busy     regular busy   \n",
       "2   both  low-range product  regular busy     regular busy   \n",
       "3   both  low-range product  regular busy     regular busy   \n",
       "4   both  low-range product  regular busy     regular busy   \n",
       "\n",
       "  busiest_period_of_day  \n",
       "0        average orders  \n",
       "1        average orders  \n",
       "2        average orders  \n",
       "3        average orders  \n",
       "4        average orders  "
      ]
     },
     "execution_count": 108,
     "metadata": {},
     "output_type": "execute_result"
    }
   ],
   "source": [
    "df_ords_prods_merge.head()"
   ]
  },
  {
   "cell_type": "code",
   "execution_count": 144,
   "id": "4c125e25-1a3a-4cdb-acbb-8346c101c43c",
   "metadata": {},
   "outputs": [
    {
     "data": {
      "text/plain": [
       "busiest_days_loc\n",
       "regular busy days     12916111\n",
       "busiest days          11864412\n",
       "least busiest days     7624336\n",
       "Name: count, dtype: int64"
      ]
     },
     "execution_count": 144,
     "metadata": {},
     "output_type": "execute_result"
    }
   ],
   "source": [
    "df_ords_prods_merge['busiest_days_loc'].value_counts(dropna = False)"
   ]
  },
  {
   "cell_type": "markdown",
   "id": "961ee990-30df-4b0e-9125-65388f0d6feb",
   "metadata": {},
   "source": [
    "3. I did the math, it is correct. "
   ]
  },
  {
   "cell_type": "markdown",
   "id": "1bb4e518-d056-4311-b427-a64463855d40",
   "metadata": {},
   "source": [
    "Creating busiest time of day"
   ]
  },
  {
   "cell_type": "code",
   "execution_count": 39,
   "id": "ceabab3b-9eb6-4afd-aa8a-34c772ff6702",
   "metadata": {},
   "outputs": [
    {
     "data": {
      "text/plain": [
       "order_time\n",
       "10    2761760\n",
       "11    2736140\n",
       "14    2689136\n",
       "15    2662144\n",
       "13    2660954\n",
       "12    2618532\n",
       "16    2535202\n",
       "9     2454203\n",
       "17    2087654\n",
       "8     1718118\n",
       "18    1636502\n",
       "19    1258305\n",
       "20     976156\n",
       "7      891054\n",
       "21     795637\n",
       "22     634225\n",
       "23     402316\n",
       "6      290493\n",
       "0      218769\n",
       "1      115700\n",
       "5       87961\n",
       "2       69375\n",
       "4       53242\n",
       "3       51281\n",
       "Name: count, dtype: int64"
      ]
     },
     "execution_count": 39,
     "metadata": {},
     "output_type": "execute_result"
    }
   ],
   "source": [
    "# Craeting busiest time of day with 'for loop'\n",
    "df_ords_prods_merge['order_time'].value_counts (dropna= False)"
   ]
  },
  {
   "cell_type": "code",
   "execution_count": 96,
   "id": "b7ea1a19-396c-4165-b347-05c5a8bc5b65",
   "metadata": {},
   "outputs": [],
   "source": [
    "result = []\n",
    "\n",
    "for value in df_ords_prods_merge['order_time']: \n",
    "    if value in [9, 10, 11, 12, 13, 14, 15, 16]:\n",
    "        result.append('most orders')\n",
    "    elif value in [0, 1, 2, 3, 4, 5, 6, 23]:\n",
    "        result.append('fewest orders')\n",
    "    else:\n",
    "        result.append('average orders')"
   ]
  },
  {
   "cell_type": "code",
   "execution_count": 1,
   "id": "bdf2b598-743c-4e0a-9335-3d71e85a6c2b",
   "metadata": {},
   "outputs": [
    {
     "ename": "NameError",
     "evalue": "name 'result' is not defined",
     "output_type": "error",
     "traceback": [
      "\u001b[0;31m---------------------------------------------------------------------------\u001b[0m",
      "\u001b[0;31mNameError\u001b[0m                                 Traceback (most recent call last)",
      "Cell \u001b[0;32mIn[1], line 1\u001b[0m\n\u001b[0;32m----> 1\u001b[0m result\n",
      "\u001b[0;31mNameError\u001b[0m: name 'result' is not defined"
     ]
    }
   ],
   "source": [
    "result"
   ]
  },
  {
   "cell_type": "code",
   "execution_count": 97,
   "id": "5ad8c7c9-f261-4ed8-802a-405d588bffb4",
   "metadata": {},
   "outputs": [],
   "source": [
    "df_ords_prods_merge['busiest_period_of_day'] = result"
   ]
  },
  {
   "cell_type": "code",
   "execution_count": 100,
   "id": "4ed0a366-4263-4048-ab4a-b5bc0c860d8a",
   "metadata": {},
   "outputs": [
    {
     "data": {
      "text/plain": [
       "busiest_period_of_day\n",
       "most orders       21118071\n",
       "average orders     9997651\n",
       "fewest orders      1289137\n",
       "Name: count, dtype: int64"
      ]
     },
     "execution_count": 100,
     "metadata": {},
     "output_type": "execute_result"
    }
   ],
   "source": [
    "df_ords_prods_merge['busiest_period_of_day'].value_counts (dropna=False)\n"
   ]
  },
  {
   "cell_type": "code",
   "execution_count": 134,
   "id": "3ed4b581-060e-4f1e-87b1-e9662e7c5c9f",
   "metadata": {},
   "outputs": [],
   "source": [
    "'exclusion lag# creating busiest time of day with loc() function ( technically I created a second busiest time of day column to make sure I don't over write what I had since I didn't know if it would work...)\n",
    "df_ords_prods_merge.loc[(df_ords_prods_merge['order_time']).isin ([9, 10, 11, 12, 13, 14, 15, 16]), 'busiest_period_of_day_2'] = 'most orders 2'\n",
    "df_ords_prods_merge.loc[(df_ords_prods_merge['order_time']).isin ([0, 1, 2, 3, 4, 5, 6, 23]), 'busiest_period_of_day_2'] = 'fewest orders 2'\n",
    "df_ords_prods_merge.loc[(df_ords_prods_merge['order_time']).isin ([17, 18, 19, 20, 21, 22, 7, 8]), 'busiest_period_of_day_2'] = 'average orders 2'"
   ]
  },
  {
   "cell_type": "code",
   "execution_count": 136,
   "id": "61f67685-a252-4bfd-97c0-053e065d6d75",
   "metadata": {},
   "outputs": [
    {
     "data": {
      "text/plain": [
       "busiest_period_of_day_2\n",
       "most orders 2       21118071\n",
       "average orders 2     9997651\n",
       "fewest orders 2      1289137\n",
       "Name: count, dtype: int64"
      ]
     },
     "execution_count": 136,
     "metadata": {},
     "output_type": "execute_result"
    }
   ],
   "source": [
    "df_ords_prods_merge ['busiest_period_of_day_2'].value_counts (dropna=False)"
   ]
  },
  {
   "cell_type": "code",
   "execution_count": 148,
   "id": "dffe9588-2157-4719-a159-31ff9b61805a",
   "metadata": {},
   "outputs": [
    {
     "data": {
      "text/html": [
       "<div>\n",
       "<style scoped>\n",
       "    .dataframe tbody tr th:only-of-type {\n",
       "        vertical-align: middle;\n",
       "    }\n",
       "\n",
       "    .dataframe tbody tr th {\n",
       "        vertical-align: top;\n",
       "    }\n",
       "\n",
       "    .dataframe thead th {\n",
       "        text-align: right;\n",
       "    }\n",
       "</style>\n",
       "<table border=\"1\" class=\"dataframe\">\n",
       "  <thead>\n",
       "    <tr style=\"text-align: right;\">\n",
       "      <th></th>\n",
       "      <th>order_id</th>\n",
       "      <th>user_id</th>\n",
       "      <th>order_number</th>\n",
       "      <th>orders_day_of_week</th>\n",
       "      <th>order_time</th>\n",
       "      <th>days_since_prior_order</th>\n",
       "      <th>product_id</th>\n",
       "      <th>add_to_cart_order</th>\n",
       "      <th>reordered</th>\n",
       "      <th>product_name</th>\n",
       "      <th>aisle_id</th>\n",
       "      <th>department_id</th>\n",
       "      <th>prices</th>\n",
       "      <th>_merge</th>\n",
       "      <th>price_range_loc</th>\n",
       "      <th>busiest day</th>\n",
       "      <th>busiest_days_loc</th>\n",
       "      <th>busiest_period_of_day</th>\n",
       "      <th>busiest_period_of_day_2</th>\n",
       "    </tr>\n",
       "  </thead>\n",
       "  <tbody>\n",
       "    <tr>\n",
       "      <th>0</th>\n",
       "      <td>2539329</td>\n",
       "      <td>1</td>\n",
       "      <td>1</td>\n",
       "      <td>2</td>\n",
       "      <td>8</td>\n",
       "      <td>NaN</td>\n",
       "      <td>196</td>\n",
       "      <td>1</td>\n",
       "      <td>0</td>\n",
       "      <td>Soda</td>\n",
       "      <td>77</td>\n",
       "      <td>7</td>\n",
       "      <td>9.0</td>\n",
       "      <td>both</td>\n",
       "      <td>mid-range product</td>\n",
       "      <td>regular busy</td>\n",
       "      <td>regular busy days</td>\n",
       "      <td>average orders</td>\n",
       "      <td>average orders 2</td>\n",
       "    </tr>\n",
       "    <tr>\n",
       "      <th>1</th>\n",
       "      <td>2539329</td>\n",
       "      <td>1</td>\n",
       "      <td>1</td>\n",
       "      <td>2</td>\n",
       "      <td>8</td>\n",
       "      <td>NaN</td>\n",
       "      <td>14084</td>\n",
       "      <td>2</td>\n",
       "      <td>0</td>\n",
       "      <td>Organic Unsweetened Vanilla Almond Milk</td>\n",
       "      <td>91</td>\n",
       "      <td>16</td>\n",
       "      <td>12.5</td>\n",
       "      <td>both</td>\n",
       "      <td>mid-range product</td>\n",
       "      <td>regular busy</td>\n",
       "      <td>regular busy days</td>\n",
       "      <td>average orders</td>\n",
       "      <td>average orders 2</td>\n",
       "    </tr>\n",
       "    <tr>\n",
       "      <th>2</th>\n",
       "      <td>2539329</td>\n",
       "      <td>1</td>\n",
       "      <td>1</td>\n",
       "      <td>2</td>\n",
       "      <td>8</td>\n",
       "      <td>NaN</td>\n",
       "      <td>12427</td>\n",
       "      <td>3</td>\n",
       "      <td>0</td>\n",
       "      <td>Original Beef Jerky</td>\n",
       "      <td>23</td>\n",
       "      <td>19</td>\n",
       "      <td>4.4</td>\n",
       "      <td>both</td>\n",
       "      <td>low-range product</td>\n",
       "      <td>regular busy</td>\n",
       "      <td>regular busy days</td>\n",
       "      <td>average orders</td>\n",
       "      <td>average orders 2</td>\n",
       "    </tr>\n",
       "    <tr>\n",
       "      <th>3</th>\n",
       "      <td>2539329</td>\n",
       "      <td>1</td>\n",
       "      <td>1</td>\n",
       "      <td>2</td>\n",
       "      <td>8</td>\n",
       "      <td>NaN</td>\n",
       "      <td>26088</td>\n",
       "      <td>4</td>\n",
       "      <td>0</td>\n",
       "      <td>Aged White Cheddar Popcorn</td>\n",
       "      <td>23</td>\n",
       "      <td>19</td>\n",
       "      <td>4.7</td>\n",
       "      <td>both</td>\n",
       "      <td>low-range product</td>\n",
       "      <td>regular busy</td>\n",
       "      <td>regular busy days</td>\n",
       "      <td>average orders</td>\n",
       "      <td>average orders 2</td>\n",
       "    </tr>\n",
       "    <tr>\n",
       "      <th>4</th>\n",
       "      <td>2539329</td>\n",
       "      <td>1</td>\n",
       "      <td>1</td>\n",
       "      <td>2</td>\n",
       "      <td>8</td>\n",
       "      <td>NaN</td>\n",
       "      <td>26405</td>\n",
       "      <td>5</td>\n",
       "      <td>0</td>\n",
       "      <td>XL Pick-A-Size Paper Towel Rolls</td>\n",
       "      <td>54</td>\n",
       "      <td>17</td>\n",
       "      <td>1.0</td>\n",
       "      <td>both</td>\n",
       "      <td>low-range product</td>\n",
       "      <td>regular busy</td>\n",
       "      <td>regular busy days</td>\n",
       "      <td>average orders</td>\n",
       "      <td>average orders 2</td>\n",
       "    </tr>\n",
       "  </tbody>\n",
       "</table>\n",
       "</div>"
      ],
      "text/plain": [
       "   order_id  user_id  order_number  orders_day_of_week  order_time  \\\n",
       "0   2539329        1             1                   2           8   \n",
       "1   2539329        1             1                   2           8   \n",
       "2   2539329        1             1                   2           8   \n",
       "3   2539329        1             1                   2           8   \n",
       "4   2539329        1             1                   2           8   \n",
       "\n",
       "   days_since_prior_order  product_id  add_to_cart_order  reordered  \\\n",
       "0                     NaN         196                  1          0   \n",
       "1                     NaN       14084                  2          0   \n",
       "2                     NaN       12427                  3          0   \n",
       "3                     NaN       26088                  4          0   \n",
       "4                     NaN       26405                  5          0   \n",
       "\n",
       "                              product_name  aisle_id  department_id  prices  \\\n",
       "0                                     Soda        77              7     9.0   \n",
       "1  Organic Unsweetened Vanilla Almond Milk        91             16    12.5   \n",
       "2                      Original Beef Jerky        23             19     4.4   \n",
       "3               Aged White Cheddar Popcorn        23             19     4.7   \n",
       "4         XL Pick-A-Size Paper Towel Rolls        54             17     1.0   \n",
       "\n",
       "  _merge    price_range_loc   busiest day   busiest_days_loc  \\\n",
       "0   both  mid-range product  regular busy  regular busy days   \n",
       "1   both  mid-range product  regular busy  regular busy days   \n",
       "2   both  low-range product  regular busy  regular busy days   \n",
       "3   both  low-range product  regular busy  regular busy days   \n",
       "4   both  low-range product  regular busy  regular busy days   \n",
       "\n",
       "  busiest_period_of_day busiest_period_of_day_2  \n",
       "0        average orders        average orders 2  \n",
       "1        average orders        average orders 2  \n",
       "2        average orders        average orders 2  \n",
       "3        average orders        average orders 2  \n",
       "4        average orders        average orders 2  "
      ]
     },
     "execution_count": 148,
     "metadata": {},
     "output_type": "execute_result"
    }
   ],
   "source": [
    "df_ords_prods_merge.head()"
   ]
  },
  {
   "cell_type": "markdown",
   "id": "a83637ef-a76f-432f-b9bb-e851605fea3e",
   "metadata": {},
   "source": [
    "I did this once using loc() and once using for loop. While for the 'busiest days' column I think it was easier using loc(), because I don't have the extra step with the result[], I think for this for loop was faster because there were so many numbers to write out, as I can't do the 'else'function in loc. The result was the same."
   ]
  },
  {
   "cell_type": "code",
   "execution_count": 165,
   "id": "8118fc82-8606-4dc3-803b-6b69ea81a07e",
   "metadata": {},
   "outputs": [],
   "source": [
    "df_ords_prods_merge.to_pickle(os.path.join(path,'Prepared Data', 'ords_prods_merge.pkl'))"
   ]
  },
  {
   "cell_type": "code",
   "execution_count": null,
   "id": "9ada6eda-b07c-4d27-8a17-fd1cb3c51cd8",
   "metadata": {},
   "outputs": [],
   "source": []
  }
 ],
 "metadata": {
  "kernelspec": {
   "display_name": "Python [conda env:base] *",
   "language": "python",
   "name": "conda-base-py"
  },
  "language_info": {
   "codemirror_mode": {
    "name": "ipython",
    "version": 3
   },
   "file_extension": ".py",
   "mimetype": "text/x-python",
   "name": "python",
   "nbconvert_exporter": "python",
   "pygments_lexer": "ipython3",
   "version": "3.12.7"
  }
 },
 "nbformat": 4,
 "nbformat_minor": 5
}
