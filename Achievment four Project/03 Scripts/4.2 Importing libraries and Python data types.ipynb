{
 "cells": [
  {
   "cell_type": "markdown",
   "id": "3661a518-cb54-431e-a8fe-cfdb763e69f2",
   "metadata": {},
   "source": [
    "# 01. Importing Libraries"
   ]
  },
  {
   "cell_type": "code",
   "execution_count": 1,
   "id": "36cc4159-2916-4a65-8a42-784ac704496f",
   "metadata": {},
   "outputs": [],
   "source": [
    "# Import libraries\n",
    "import pandas as pd\n",
    "import numpy as np\n",
    "import os\n",
    "\n"
   ]
  },
  {
   "cell_type": "code",
   "execution_count": 3,
   "id": "62852f77-a3e4-412b-841e-deefb030789b",
   "metadata": {},
   "outputs": [],
   "source": [
    "x=2"
   ]
  },
  {
   "cell_type": "code",
   "execution_count": 5,
   "id": "b323ccbb-9416-44c7-8669-5fb8bc2f1593",
   "metadata": {},
   "outputs": [],
   "source": [
    "x = 2"
   ]
  },
  {
   "cell_type": "code",
   "execution_count": 7,
   "id": "fef0bdcf-8e9b-4642-af6e-9b39d0bda89c",
   "metadata": {},
   "outputs": [
    {
     "data": {
      "text/plain": [
       "2"
      ]
     },
     "execution_count": 7,
     "metadata": {},
     "output_type": "execute_result"
    }
   ],
   "source": [
    "x"
   ]
  },
  {
   "cell_type": "code",
   "execution_count": 9,
   "id": "f0093640-d581-41b0-bd8e-c2c15563bf43",
   "metadata": {},
   "outputs": [
    {
     "name": "stdout",
     "output_type": "stream",
     "text": [
      "2\n"
     ]
    }
   ],
   "source": [
    "print (x)"
   ]
  },
  {
   "cell_type": "code",
   "execution_count": 11,
   "id": "39165dcc-1450-4bad-882d-6aa4da65e79e",
   "metadata": {},
   "outputs": [
    {
     "data": {
      "text/plain": [
       "int"
      ]
     },
     "execution_count": 11,
     "metadata": {},
     "output_type": "execute_result"
    }
   ],
   "source": [
    "type(x)"
   ]
  },
  {
   "cell_type": "code",
   "execution_count": 13,
   "id": "db4a7235-9efe-4c9e-98c7-76a35a468949",
   "metadata": {},
   "outputs": [],
   "source": [
    "y=5.678"
   ]
  },
  {
   "cell_type": "code",
   "execution_count": 15,
   "id": "f524a005-4912-4f34-ade2-01576e5c7c7c",
   "metadata": {},
   "outputs": [
    {
     "data": {
      "text/plain": [
       "float"
      ]
     },
     "execution_count": 15,
     "metadata": {},
     "output_type": "execute_result"
    }
   ],
   "source": [
    "type(y)"
   ]
  },
  {
   "cell_type": "code",
   "execution_count": 17,
   "id": "389ec1ba-973b-4e4f-8d59-d41b10ac354f",
   "metadata": {},
   "outputs": [],
   "source": [
    "z='brazil'"
   ]
  },
  {
   "cell_type": "code",
   "execution_count": 19,
   "id": "e13f34fd-0974-4124-a9ff-ca82742da766",
   "metadata": {},
   "outputs": [
    {
     "data": {
      "text/plain": [
       "str"
      ]
     },
     "execution_count": 19,
     "metadata": {},
     "output_type": "execute_result"
    }
   ],
   "source": [
    "type(z)"
   ]
  },
  {
   "cell_type": "code",
   "execution_count": 21,
   "id": "9cb8426a-7027-4279-a456-cf04f11f0b20",
   "metadata": {},
   "outputs": [
    {
     "data": {
      "text/plain": [
       "str"
      ]
     },
     "execution_count": 21,
     "metadata": {},
     "output_type": "execute_result"
    }
   ],
   "source": [
    "type('brazil')"
   ]
  },
  {
   "cell_type": "code",
   "execution_count": 23,
   "id": "8c1d44ed-859c-44a5-94e9-75dc3035daa4",
   "metadata": {},
   "outputs": [
    {
     "data": {
      "text/plain": [
       "bool"
      ]
     },
     "execution_count": 23,
     "metadata": {},
     "output_type": "execute_result"
    }
   ],
   "source": [
    "type(True)"
   ]
  },
  {
   "cell_type": "code",
   "execution_count": 25,
   "id": "02c43bef-cd74-409f-8168-87c5e10ff167",
   "metadata": {},
   "outputs": [
    {
     "data": {
      "text/plain": [
       "bool"
      ]
     },
     "execution_count": 25,
     "metadata": {},
     "output_type": "execute_result"
    }
   ],
   "source": [
    "type(False)"
   ]
  },
  {
   "cell_type": "code",
   "execution_count": 29,
   "id": "8ea192e6-2c53-4a9e-a670-9f582542f987",
   "metadata": {},
   "outputs": [
    {
     "data": {
      "text/plain": [
       "bool"
      ]
     },
     "execution_count": 29,
     "metadata": {},
     "output_type": "execute_result"
    }
   ],
   "source": [
    "type(True)"
   ]
  },
  {
   "cell_type": "code",
   "execution_count": 31,
   "id": "23823b43-6502-437f-89f0-1b56660be859",
   "metadata": {},
   "outputs": [
    {
     "data": {
      "text/plain": [
       "6"
      ]
     },
     "execution_count": 31,
     "metadata": {},
     "output_type": "execute_result"
    }
   ],
   "source": [
    "x+4"
   ]
  },
  {
   "cell_type": "markdown",
   "id": "c597c5f7-d5b4-4b8a-aed3-bf7e34f2cf80",
   "metadata": {
    "jp-MarkdownHeadingCollapsed": true
   },
   "source": [
    "x=2"
   ]
  },
  {
   "cell_type": "code",
   "execution_count": 38,
   "id": "7dfa30a7-10c2-4d58-9562-ef54b80ab129",
   "metadata": {},
   "outputs": [
    {
     "data": {
      "text/plain": [
       "11.356"
      ]
     },
     "execution_count": 38,
     "metadata": {},
     "output_type": "execute_result"
    }
   ],
   "source": [
    "x+y"
   ]
  },
  {
   "cell_type": "code",
   "execution_count": 40,
   "id": "ea7143a7-ed8b-4e27-b2fe-a19f0e135226",
   "metadata": {},
   "outputs": [],
   "source": [
    "x=2"
   ]
  },
  {
   "cell_type": "code",
   "execution_count": 42,
   "id": "5310cc4f-818a-4cbf-9d78-68ab70757183",
   "metadata": {},
   "outputs": [
    {
     "data": {
      "text/plain": [
       "7.678"
      ]
     },
     "execution_count": 42,
     "metadata": {},
     "output_type": "execute_result"
    }
   ],
   "source": [
    "x+y"
   ]
  },
  {
   "cell_type": "code",
   "execution_count": 44,
   "id": "285083ab-bd72-44f1-9f75-487c7dba3fb5",
   "metadata": {},
   "outputs": [],
   "source": [
    "x=x+4"
   ]
  },
  {
   "cell_type": "code",
   "execution_count": 46,
   "id": "0aaf7bda-6565-4332-aa21-0b2b4423319e",
   "metadata": {},
   "outputs": [
    {
     "name": "stdout",
     "output_type": "stream",
     "text": [
      "6\n"
     ]
    }
   ],
   "source": [
    "print(x)"
   ]
  },
  {
   "cell_type": "code",
   "execution_count": 1,
   "id": "b4649a47-7fc7-4170-a5ea-e7723a5103ee",
   "metadata": {},
   "outputs": [],
   "source": [
    "a='hello'"
   ]
  },
  {
   "cell_type": "code",
   "execution_count": 50,
   "id": "e7afa29d-74cd-4f49-85fb-a98892193193",
   "metadata": {},
   "outputs": [],
   "source": [
    "a='hello'"
   ]
  },
  {
   "cell_type": "code",
   "execution_count": 52,
   "id": "a4f14f8c-4210-4c25-ae3a-5af1897a3968",
   "metadata": {},
   "outputs": [],
   "source": [
    "b='euan'"
   ]
  },
  {
   "cell_type": "code",
   "execution_count": 54,
   "id": "9790c782-5141-4a19-be82-e603adb9ed37",
   "metadata": {},
   "outputs": [
    {
     "data": {
      "text/plain": [
       "'helloeuan'"
      ]
     },
     "execution_count": 54,
     "metadata": {},
     "output_type": "execute_result"
    }
   ],
   "source": [
    "a+b"
   ]
  },
  {
   "cell_type": "code",
   "execution_count": null,
   "id": "296adb5e-cb48-44ba-9e2c-872f11791ae0",
   "metadata": {},
   "outputs": [],
   "source": []
  },
  {
   "cell_type": "code",
   "execution_count": 58,
   "id": "da12ffb8-79cb-4546-a0dd-6d61f51862db",
   "metadata": {},
   "outputs": [
    {
     "data": {
      "text/plain": [
       "'hellohellohellohellohello'"
      ]
     },
     "execution_count": 58,
     "metadata": {},
     "output_type": "execute_result"
    }
   ],
   "source": [
    "a*5"
   ]
  },
  {
   "cell_type": "code",
   "execution_count": 60,
   "id": "414f8d50-9f5b-42a9-bcf1-a36be9d1d272",
   "metadata": {},
   "outputs": [
    {
     "data": {
      "text/plain": [
       "False"
      ]
     },
     "execution_count": 60,
     "metadata": {},
     "output_type": "execute_result"
    }
   ],
   "source": [
    "x==y"
   ]
  },
  {
   "cell_type": "code",
   "execution_count": 62,
   "id": "a6775bcc-8e87-4c73-90b8-3cd6138f7dc0",
   "metadata": {},
   "outputs": [
    {
     "data": {
      "text/plain": [
       "bool"
      ]
     },
     "execution_count": 62,
     "metadata": {},
     "output_type": "execute_result"
    }
   ],
   "source": [
    "type (x==y)"
   ]
  },
  {
   "cell_type": "markdown",
   "id": "b4e972b2-be8d-46f6-8d78-5b397c509f4a",
   "metadata": {},
   "source": []
  },
  {
   "cell_type": "markdown",
   "id": "98ca8a36-a68c-4750-b40b-e9d748984d34",
   "metadata": {},
   "source": [
    "4.2 Task"
   ]
  },
  {
   "cell_type": "code",
   "execution_count": 65,
   "id": "db1241ad-e518-424f-b5bc-7c53fa5b27e7",
   "metadata": {},
   "outputs": [],
   "source": [
    "x=50"
   ]
  },
  {
   "cell_type": "code",
   "execution_count": 67,
   "id": "661c4d7d-7870-4228-8ac9-52ab7d406e43",
   "metadata": {},
   "outputs": [],
   "source": [
    "y=30"
   ]
  },
  {
   "cell_type": "code",
   "execution_count": 69,
   "id": "0b8f7c5d-f7ee-473a-a275-17f4fdc140a0",
   "metadata": {},
   "outputs": [],
   "source": [
    "z=20"
   ]
  },
  {
   "cell_type": "code",
   "execution_count": 71,
   "id": "260c67d0-2b9c-4b97-9850-067707485d38",
   "metadata": {},
   "outputs": [
    {
     "data": {
      "text/plain": [
       "100"
      ]
     },
     "execution_count": 71,
     "metadata": {},
     "output_type": "execute_result"
    }
   ],
   "source": [
    "x+y+z"
   ]
  },
  {
   "cell_type": "code",
   "execution_count": 73,
   "id": "eedb988a-a9b6-4bd2-9a1d-f3cd3ee1bcd9",
   "metadata": {},
   "outputs": [
    {
     "data": {
      "text/plain": [
       "100"
      ]
     },
     "execution_count": 73,
     "metadata": {},
     "output_type": "execute_result"
    }
   ],
   "source": [
    "3*x-y-z"
   ]
  },
  {
   "cell_type": "code",
   "execution_count": 77,
   "id": "4570fbec-1acf-4783-a0d7-cfbbf1ab7798",
   "metadata": {},
   "outputs": [
    {
     "data": {
      "text/plain": [
       "100"
      ]
     },
     "execution_count": 77,
     "metadata": {},
     "output_type": "execute_result"
    }
   ],
   "source": [
    "5*z"
   ]
  },
  {
   "cell_type": "code",
   "execution_count": 79,
   "id": "9546a1a0-6385-4153-9758-0d15e819ef87",
   "metadata": {},
   "outputs": [
    {
     "data": {
      "text/plain": [
       "100.0"
      ]
     },
     "execution_count": 79,
     "metadata": {},
     "output_type": "execute_result"
    }
   ],
   "source": [
    "4*x/2"
   ]
  },
  {
   "cell_type": "code",
   "execution_count": 81,
   "id": "5fff4b35-6be2-4ebe-a10b-031451ac14ad",
   "metadata": {},
   "outputs": [],
   "source": [
    "x=2.54"
   ]
  },
  {
   "cell_type": "code",
   "execution_count": 83,
   "id": "e9177c56-8f45-480d-a12b-f15e3ad1f0c5",
   "metadata": {},
   "outputs": [],
   "source": [
    "y=6.259"
   ]
  },
  {
   "cell_type": "code",
   "execution_count": 85,
   "id": "757890ae-74c5-41f9-bb4f-239213b9c3ec",
   "metadata": {},
   "outputs": [
    {
     "data": {
      "text/plain": [
       "2.4641732283464566"
      ]
     },
     "execution_count": 85,
     "metadata": {},
     "output_type": "execute_result"
    }
   ],
   "source": [
    "y/x"
   ]
  },
  {
   "cell_type": "code",
   "execution_count": 91,
   "id": "2f8ee2a2-0345-4c98-924d-aa15b5c3bb33",
   "metadata": {},
   "outputs": [],
   "source": [
    "a='feb'"
   ]
  },
  {
   "cell_type": "code",
   "execution_count": 93,
   "id": "aad93f47-9739-4907-8bb2-11028b1f5ca5",
   "metadata": {},
   "outputs": [],
   "source": [
    "b='ruary'"
   ]
  },
  {
   "cell_type": "code",
   "execution_count": 95,
   "id": "a8bdf0ba-b9b4-41e1-8fbb-5eb926052161",
   "metadata": {},
   "outputs": [
    {
     "data": {
      "text/plain": [
       "'february'"
      ]
     },
     "execution_count": 95,
     "metadata": {},
     "output_type": "execute_result"
    }
   ],
   "source": [
    "a+b"
   ]
  },
  {
   "cell_type": "code",
   "execution_count": 107,
   "id": "d7433352-787b-4a24-a8ca-f5e71473d4d4",
   "metadata": {},
   "outputs": [],
   "source": [
    "c='Hi clinton, '"
   ]
  },
  {
   "cell_type": "code",
   "execution_count": 99,
   "id": "e9ee11ec-4e6e-4151-b95d-36926b20183c",
   "metadata": {},
   "outputs": [],
   "source": [
    "d='have a nice weekend'"
   ]
  },
  {
   "cell_type": "code",
   "execution_count": 109,
   "id": "224e1867-acbc-44af-9d0d-8312cb1c9cd9",
   "metadata": {},
   "outputs": [
    {
     "data": {
      "text/plain": [
       "'Hi clinton, have a nice weekend'"
      ]
     },
     "execution_count": 109,
     "metadata": {},
     "output_type": "execute_result"
    }
   ],
   "source": [
    "c+d"
   ]
  },
  {
   "cell_type": "code",
   "execution_count": 111,
   "id": "1cc688ce-02f3-4e5c-8264-5e64a2e256fa",
   "metadata": {},
   "outputs": [],
   "source": [
    "e='I should go walk my dog, '"
   ]
  },
  {
   "cell_type": "code",
   "execution_count": 117,
   "id": "e4c80b69-38a6-4cc2-a786-166c7fdeccac",
   "metadata": {},
   "outputs": [],
   "source": [
    "f='but it is freezing and I do not want to'"
   ]
  },
  {
   "cell_type": "code",
   "execution_count": 119,
   "id": "0accfc0e-97dc-4976-8f75-ab1b65b62827",
   "metadata": {},
   "outputs": [
    {
     "data": {
      "text/plain": [
       "'I should go walk my dog, but it is freezing and I do not want to'"
      ]
     },
     "execution_count": 119,
     "metadata": {},
     "output_type": "execute_result"
    }
   ],
   "source": [
    "e+f"
   ]
  },
  {
   "cell_type": "code",
   "execution_count": 121,
   "id": "2caf280e-2ef3-4db4-b11a-85408f153ace",
   "metadata": {},
   "outputs": [],
   "source": [
    "k='hello'"
   ]
  },
  {
   "cell_type": "code",
   "execution_count": 123,
   "id": "8e23a390-02cb-41a8-b3d7-b257330dbbb5",
   "metadata": {},
   "outputs": [
    {
     "data": {
      "text/plain": [
       "'hellohellohellohellohellohellohellohellohellohellohellohellohellohellohellohellohellohellohellohellohellohellohellohellohellohellohellohellohellohellohellohellohellohellohellohellohellohellohellohellohellohellohellohellohellohellohellohellohellohellohellohellohellohellohellohellohellohellohellohellohellohellohellohellohellohellohellohellohellohellohellohellohellohellohellohellohellohellohellohellohellohellohellohellohellohellohellohellohellohellohellohellohellohellohellohellohellohellohellohello'"
      ]
     },
     "execution_count": 123,
     "metadata": {},
     "output_type": "execute_result"
    }
   ],
   "source": [
    "k*100"
   ]
  },
  {
   "cell_type": "code",
   "execution_count": null,
   "id": "7b4366e9-9f32-4422-b37b-2d4d61356ad1",
   "metadata": {},
   "outputs": [],
   "source": []
  }
 ],
 "metadata": {
  "kernelspec": {
   "display_name": "Python [conda env:base] *",
   "language": "python",
   "name": "conda-base-py"
  },
  "language_info": {
   "codemirror_mode": {
    "name": "ipython",
    "version": 3
   },
   "file_extension": ".py",
   "mimetype": "text/x-python",
   "name": "python",
   "nbconvert_exporter": "python",
   "pygments_lexer": "ipython3",
   "version": "3.12.7"
  }
 },
 "nbformat": 4,
 "nbformat_minor": 5
}
